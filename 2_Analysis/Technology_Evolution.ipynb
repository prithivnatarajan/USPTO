{
 "cells": [
  {
   "cell_type": "code",
   "execution_count": 1,
   "metadata": {
    "collapsed": true
   },
   "outputs": [],
   "source": [
    "import numpy as np\n",
    "import pandas as pd\n",
    "import nltk\n",
    "from sklearn.feature_extraction.text import CountVectorizer, TfidfTransformer, TfidfVectorizer\n",
    "from sklearn.decomposition import PCA\n",
    "from sklearn.cluster import KMeans\n",
    "import seaborn as sns; sns.set()\n",
    "import matplotlib.pyplot as plt\n",
    "%matplotlib inline"
   ]
  },
  {
   "cell_type": "code",
   "execution_count": null,
   "metadata": {
    "collapsed": true
   },
   "outputs": [],
   "source": []
  },
  {
   "cell_type": "code",
   "execution_count": 2,
   "metadata": {
    "collapsed": true
   },
   "outputs": [],
   "source": [
    "df = pd.read_csv('cleaned_data1.csv', index_col = 0)\n",
    "X_train = df.joined_all.values"
   ]
  },
  {
   "cell_type": "code",
   "execution_count": null,
   "metadata": {},
   "outputs": [],
   "source": [
    "df"
   ]
  },
  {
   "cell_type": "code",
   "execution_count": null,
   "metadata": {},
   "outputs": [],
   "source": [
    "#colnames=['Sequence-Length', 'UCSC-style-name'] \n",
    "#It will convert tab delimiter text file into dataframe\n",
    "dataframe1 = pd.read_csv(\"uspto.patent.examiner.txt\",delimiter=\"\\t\", header=None)\n",
    "#Write dataframe into CSV\n",
    "dataframe1.to_csv(\"upe.csv\", encoding='utf-8', index=False)\n",
    "upe=dataframe1\n",
    "u = upe.to_dict()"
   ]
  },
  {
   "cell_type": "code",
   "execution_count": null,
   "metadata": {
    "collapsed": true
   },
   "outputs": [],
   "source": [
    "patent_number = list(df['patnum'])\n",
    "temp_str = []\n",
    "for i in range(len(patent_number)):\n",
    "    temp_str.append(patent_number[i][2:len(patent_number[i])-2])\n",
    "\n",
    "examiner_name=[]\n",
    "for j in temp_str:\n",
    "        try:\n",
    "            ind = list(u[0].values()).index(j)\n",
    "        except:\n",
    "            ind = -1\n",
    "        if ind >= 0:\n",
    "            examiner_name.append(u[1][ind])\n",
    "        else:\n",
    "            examiner_name.append('NA')\n",
    "            \n",
    "df['Examiner'] = examiner_name"
   ]
  },
  {
   "cell_type": "code",
   "execution_count": null,
   "metadata": {},
   "outputs": [],
   "source": [
    "X_train[1]"
   ]
  },
  {
   "cell_type": "markdown",
   "metadata": {},
   "source": [
    "# Step 1: max and min Tfidf terms"
   ]
  },
  {
   "cell_type": "markdown",
   "metadata": {},
   "source": [
    "The TfidfVectorizer will tokenize documents, learn the vocabulary and inverse document frequency weightings, and allow you to encode new documents."
   ]
  },
  {
   "cell_type": "markdown",
   "metadata": {},
   "source": [
    "TF: Term Frequency, which measures how frequently a term occurs in a document. Since every document is different in length, it is possible that a term would appear much more times in long documents than shorter ones. Thus, the term frequency is often divided by the document length (aka. the total number of terms in the document) as a way of normalization.\n",
    "\n",
    "IDF: Inverse Document Frequency, which measures how important a term is. While computing TF, all terms are considered equally important. However it is known that certain terms, such as \"is\", \"of\", and \"that\", may appear a lot of times but have little importance. Thus we need to weigh down the frequent terms while scale up the rare ones.\n",
    "\n",
    "\n",
    "Consider a document containing 100 words wherein the word light appears 10 times. The term frequency (i.e., tf) for light is then (10 / 100) = 0.1. Now, assume we have 10 million documents and the word light appears in one thousand of these. Then, the inverse document frequency (i.e., idf) is calculated as log(10,000,000 / 1,000) = 4. Thus, the Tf-idf weight is the product of these quantities: 0.1 * 4 = 0.4."
   ]
  },
  {
   "cell_type": "code",
   "execution_count": null,
   "metadata": {
    "collapsed": true
   },
   "outputs": [],
   "source": [
    "def max_min_tfidf(X_train, n = 20):\n",
    "    \n",
    "    \"\"\"\n",
    "        X_train: a list of text documents\n",
    "        n: number of tokens to show \n",
    "\n",
    "        return: mins, maxs Series of n tokens with lowest tfidf and highest tfidf values respectively\n",
    "    \"\"\"\n",
    "    \n",
    "    vect = TfidfVectorizer(token_pattern=r'\\b[\\w|/]+\\b').fit(X_train)\n",
    "    X_train_vectorized = vect.transform(X_train)\n",
    "    feature_names = np.array(vect.get_feature_names())\n",
    "    sorted_tfidf_index = X_train_vectorized.max(0).toarray()[0].argsort()\n",
    "    smallest = feature_names[sorted_tfidf_index[:n]]\n",
    "    largest = feature_names[sorted_tfidf_index[:-1 - n:-1]]\n",
    "    mins = pd.Series(data = sorted(X_train_vectorized.max(0).toarray()[0])[:n], index = smallest).sort_index() \n",
    "    maxs = pd.Series(data = sorted(X_train_vectorized.max(0).toarray()[0])[:-1 - n:-1], index = largest).sort_index()\n",
    "    return mins, maxs"
   ]
  },
  {
   "cell_type": "markdown",
   "metadata": {},
   "source": [
    "Lets see what min and max tfidf values are when not touching the weights of the cleaned data corpus"
   ]
  },
  {
   "cell_type": "code",
   "execution_count": null,
   "metadata": {
    "collapsed": true
   },
   "outputs": [],
   "source": [
    "mins, maxs = max_min_tfidf(X_train)"
   ]
  },
  {
   "cell_type": "code",
   "execution_count": null,
   "metadata": {
    "collapsed": true
   },
   "outputs": [],
   "source": [
    "print('mins', mins)\n",
    "print('maxs', maxs)"
   ]
  },
  {
   "cell_type": "markdown",
   "metadata": {},
   "source": [
    "# Step 2 "
   ]
  },
  {
   "cell_type": "markdown",
   "metadata": {},
   "source": [
    "Create an instance of the CountVectorizer class. Call the fit() function in order to learn a vocabulary from one or more documents. Call the transform() function on one or more documents as needed to encode each as a vector.\n",
    "Because these vectors will contain a lot of zeros, we call them sparse."
   ]
  },
  {
   "cell_type": "markdown",
   "metadata": {},
   "source": [
    "We use a learned CountVectorizer with a TfidfTransformer to just calculate the inverse document frequencies and start encoding documents, which is the same as the TfidfVectorizer used above. The reason for such an alternative approach is for the modification of the CPC weights that can help with better and more accurate clustering of patents."
   ]
  },
  {
   "cell_type": "markdown",
   "metadata": {},
   "source": [
    "We normalize to reduce the contributions of the terms that are common or rare."
   ]
  },
  {
   "cell_type": "code",
   "execution_count": null,
   "metadata": {
    "collapsed": true
   },
   "outputs": [],
   "source": [
    "def tfidf_cpc_weights(X_train, n=1.2):\n",
    "    \n",
    "    \"\"\"\n",
    "        X_train: a list of text documents\n",
    "        n: magnitude of change to the weight of selected X_train elements\n",
    "\n",
    "        return: tfidf, tfidf_matrix, count_vectorizer\n",
    "    \"\"\"\n",
    "    \n",
    "    count_vectorizer = CountVectorizer(token_pattern=r'\\b[\\w|/]+\\b').fit(X_train)\n",
    "    X_train_vectorized = count_vectorizer.transform(X_train)\n",
    "    tfidf = TfidfTransformer(norm=\"l2\")\n",
    "    tfidf.fit(X_train_vectorized)\n",
    "    tf_idf_matrix = tfidf.transform(X_train_vectorized)\n",
    "\n",
    "    position = count_vectorizer.vocabulary_['a_uspto']\n",
    "    tf_idf_matrix[:, position] *= n\n",
    "    #print('adil is now', tf_idf_matrix[:, position].max(0))\n",
    "    position = count_vectorizer.vocabulary_['b_uspto']\n",
    "    tf_idf_matrix[:, position] *= n\n",
    "    #print('bdil is now', tf_idf_matrix[:, position].max(0))\n",
    "    position = count_vectorizer.vocabulary_['c_uspto']\n",
    "    tf_idf_matrix[:, position] *= n\n",
    "    #print('cdil is now', tf_idf_matrix[:, position].max(0))\n",
    "    position = count_vectorizer.vocabulary_['f_uspto']\n",
    "    tf_idf_matrix[:, position] *= n\n",
    "    #print('fdil is now', tf_idf_matrix[:, position].max(0))\n",
    "    position = count_vectorizer.vocabulary_['g_uspto']\n",
    "    tf_idf_matrix[:, position] *= n\n",
    "    #print('gdil is now', tf_idf_matrix[:, position].max(0))\n",
    "    position = count_vectorizer.vocabulary_['h_uspto']\n",
    "    tf_idf_matrix[:, position] *= n\n",
    "    #print('hdil is now', tf_idf_matrix[:, position].max(0))\n",
    "    position = count_vectorizer.vocabulary_['y_uspto']\n",
    "    tf_idf_matrix[:, position] *= n\n",
    "    #print('ydil is now', tf_idf_matrix[:, position].max(0))\n",
    "    return tfidf, tf_idf_matrix, count_vectorizer"
   ]
  },
  {
   "cell_type": "code",
   "execution_count": null,
   "metadata": {
    "collapsed": true
   },
   "outputs": [],
   "source": [
    "tfidf, tf_idf_matrix, count_vectorizer = tfidf_cpc_weights(X_train)"
   ]
  },
  {
   "cell_type": "code",
   "execution_count": null,
   "metadata": {
    "collapsed": true
   },
   "outputs": [],
   "source": [
    "tfidf"
   ]
  },
  {
   "cell_type": "code",
   "execution_count": null,
   "metadata": {
    "collapsed": true
   },
   "outputs": [],
   "source": [
    "print(tf_idf_matrix)"
   ]
  },
  {
   "cell_type": "code",
   "execution_count": null,
   "metadata": {
    "collapsed": true
   },
   "outputs": [],
   "source": [
    "count_vectorizer"
   ]
  },
  {
   "cell_type": "markdown",
   "metadata": {},
   "source": [
    "# Step 3"
   ]
  },
  {
   "cell_type": "code",
   "execution_count": null,
   "metadata": {
    "collapsed": true
   },
   "outputs": [],
   "source": [
    "def pca_xyz(tf_idf_matrix):\n",
    "    \n",
    "    \"\"\"\n",
    "        tf_idf_matrix: a matrix of tfidf values for each word\n",
    "\n",
    "        return: x_list, y_list, z_list lists of 3D coordinates\n",
    "    \"\"\"\n",
    "    \n",
    "    pca = PCA(n_components=3,svd_solver='randomized',whiten=True)\n",
    "    pca.fit(tf_idf_matrix.toarray())\n",
    "    tfidf_proj = pca.transform(tf_idf_matrix.toarray())\n",
    "    x_list=[]\n",
    "    y_list=[]\n",
    "    z_list=[]\n",
    "    for i in range(len(tfidf_proj)):\n",
    "        x_list.append(tfidf_proj[i][0])\n",
    "        y_list.append(tfidf_proj[i][1])\n",
    "        z_list.append(tfidf_proj[i][2])\n",
    "    return x_list, y_list, z_list"
   ]
  },
  {
   "cell_type": "code",
   "execution_count": null,
   "metadata": {
    "collapsed": true
   },
   "outputs": [],
   "source": [
    "x_list, y_list, z_list = pca_xyz(tf_idf_matrix)\n",
    "df['x_coor'] = x_list\n",
    "df['y_coor'] = y_list\n",
    "df['z_coor'] = z_list"
   ]
  },
  {
   "cell_type": "code",
   "execution_count": null,
   "metadata": {
    "collapsed": true
   },
   "outputs": [],
   "source": [
    "df.head()"
   ]
  },
  {
   "cell_type": "markdown",
   "metadata": {},
   "source": [
    "# Step 4"
   ]
  },
  {
   "cell_type": "code",
   "execution_count": null,
   "metadata": {
    "collapsed": true
   },
   "outputs": [],
   "source": [
    "def k_means(tf_idf_matrix, n_clusters = 5):\n",
    "        \n",
    "    \"\"\"\n",
    "        tf_idf_matrix: a matrix of tfidf values for each word\n",
    "\n",
    "        return: instance of kmeans, clusters\n",
    "    \"\"\"\n",
    "    \n",
    "    kmeans = KMeans(n_clusters, max_iter= 1000, random_state=8).fit(tf_idf_matrix)\n",
    "    clusters = kmeans.labels_.tolist()\n",
    "    return kmeans, clusters"
   ]
  },
  {
   "cell_type": "code",
   "execution_count": 168,
   "metadata": {
    "collapsed": true
   },
   "outputs": [],
   "source": [
    "kmeans, clusters = k_means(tf_idf_matrix)\n",
    "df['cluster'] = clusters"
   ]
  },
  {
   "cell_type": "markdown",
   "metadata": {},
   "source": [
    "In this case, we want top 30 terms of each cluster to be printed"
   ]
  },
  {
   "cell_type": "code",
   "execution_count": null,
   "metadata": {
    "collapsed": true
   },
   "outputs": [],
   "source": [
    "def top_terms(kmeans, count_vectorizer, n_terms = 30, n_clusters = 5):\n",
    "    \n",
    "    \"\"\"\n",
    "        kmeans: for use of getting centers\n",
    "        count_vectorizer: prefit for use of getting features\n",
    "        n_terms: number of top terms requested\n",
    "        n_clusters: number of clusters\n",
    "\n",
    "        return: a list of lists of terms per cluster\n",
    "    \"\"\"\n",
    "    #get the centroids by doing kmeans.cluster_centers_, which should have dimensionality 5 (number of clusters) x n (number of features)\n",
    "    #then sort the indices of features by by the ones closest to each centroid\n",
    "    order_centroids = kmeans.cluster_centers_.argsort()[:, ::-1]\n",
    "    terms = count_vectorizer.get_feature_names()\n",
    "    lists = []\n",
    "    temp = []\n",
    "    #print(order_centroids.shape)\n",
    "    for i in range(n_clusters):\n",
    "        print(\"Cluster %d words:\" % i, end='')\n",
    "\n",
    "        for ind in order_centroids[i, :n_terms]:\n",
    "            print(' %s' % terms[ind], end=',')\n",
    "            if not terms[ind].endswith('dil') and not terms[ind].endswith('nova'):\n",
    "       \n",
    "                temp.append(terms[ind])\n",
    "        \n",
    "        lists.append(temp)\n",
    "        temp = []\n",
    "        print('\\n')\n",
    "    \n",
    "    from collections import Counter\n",
    "    mylist = []\n",
    "    for i in range(n_clusters):\n",
    "        mylist = mylist + lists[i]\n",
    "    #print('LIST', mylist)\n",
    "    cnt = Counter(mylist)\n",
    "    across_all = [k for k, v in cnt.items() if v > 1]\n",
    "    #print('across_all', across_all)\n",
    "    #final = [[x for x in range(n_terms)] for y in range(n_clusters)]\n",
    "    final = []\n",
    "    temp = []\n",
    "    #print('LISTSS', lists)\n",
    "    for i in range(n_clusters):\n",
    "        final.append([t for t in lists[i] if t not in across_all])\n",
    "    return final"
   ]
  },
  {
   "cell_type": "code",
   "execution_count": null,
   "metadata": {
    "collapsed": true
   },
   "outputs": [],
   "source": [
    "n_clusters = 5\n",
    "n_terms = 30\n",
    "terms_list = top_terms(kmeans, count_vectorizer, n_terms, n_clusters)"
   ]
  },
  {
   "cell_type": "markdown",
   "metadata": {},
   "source": [
    "Appent the list of terms for each cluster in the dataframe."
   ]
  },
  {
   "cell_type": "code",
   "execution_count": null,
   "metadata": {
    "collapsed": true
   },
   "outputs": [],
   "source": [
    "df['terms'] = 'xyz'\n",
    "for i in range(n_clusters):\n",
    "    df.terms[df.cluster == i] = ', '.join(terms_list[i])"
   ]
  },
  {
   "cell_type": "code",
   "execution_count": null,
   "metadata": {
    "collapsed": true
   },
   "outputs": [],
   "source": [
    "df.drop(['cpc_01', 'cpc_02', 'cpc_03', 'cites_01', 'joined_cleaned', 'joined_all'], axis = 1, inplace = True)\n",
    "             \n",
    "df.to_csv('final_01.csv')"
   ]
  },
  {
   "cell_type": "code",
   "execution_count": null,
   "metadata": {
    "collapsed": true
   },
   "outputs": [],
   "source": [
    "df_today = df"
   ]
  },
  {
   "cell_type": "code",
   "execution_count": null,
   "metadata": {
    "collapsed": true
   },
   "outputs": [],
   "source": [
    "centroid_clusters = df.groupby(['cluster']).mean().reset_index()"
   ]
  },
  {
   "cell_type": "code",
   "execution_count": null,
   "metadata": {
    "collapsed": true
   },
   "outputs": [],
   "source": [
    "centroid_clusters"
   ]
  },
  {
   "cell_type": "code",
   "execution_count": null,
   "metadata": {
    "collapsed": true
   },
   "outputs": [],
   "source": [
    "f = df[df['patnum'].str.contains(\"US8487\")]\n",
    "seed_patent_cluster = f['cluster']"
   ]
  },
  {
   "cell_type": "code",
   "execution_count": null,
   "metadata": {
    "collapsed": true
   },
   "outputs": [],
   "source": [
    "seed_patent_cluster"
   ]
  },
  {
   "cell_type": "code",
   "execution_count": null,
   "metadata": {
    "collapsed": true
   },
   "outputs": [],
   "source": [
    "clustered_patents = df.where(df.cluster.isin(seed_patent_cluster))"
   ]
  },
  {
   "cell_type": "code",
   "execution_count": null,
   "metadata": {
    "collapsed": true
   },
   "outputs": [],
   "source": [
    "clust_p = clustered_patents"
   ]
  },
  {
   "cell_type": "code",
   "execution_count": null,
   "metadata": {
    "collapsed": true
   },
   "outputs": [],
   "source": []
  },
  {
   "cell_type": "markdown",
   "metadata": {},
   "source": [
    "# Step 5: Finding the patents closest to each cluster"
   ]
  },
  {
   "cell_type": "code",
   "execution_count": null,
   "metadata": {
    "collapsed": true
   },
   "outputs": [],
   "source": [
    "def distance_to_cluster(df, n_clusters = 5):\n",
    "    \n",
    "    \"\"\"\n",
    "        df: a dataframe consisted of patent data\n",
    "        n_clusters: number of clusters given\n",
    "\n",
    "        return: a modified dataframe with distance to each clusters values appended as additional columns\n",
    "    \"\"\"\n",
    "    \n",
    "    for i in range(n_clusters):\n",
    "        mean_0 = np.array([df.x_coor[df.cluster == 3].mean(), df.y_coor[df.cluster == 3].mean(), df.z_coor[df.cluster == 3].mean()])\n",
    "        distance_0 = df[df.cluster==3].apply(\n",
    "            lambda x: np.sqrt((df[df.cluster==3].x_coor-mean_0[0])**2 + (df[df.cluster==3].y_coor-mean_0[1])**2 + (df[df.cluster==3].z_coor-mean_0[2])**2)\n",
    "        )\n",
    "        df['distance' + str(i)] = 0\n",
    "        df['distance' + str(i)] = distance_0\n",
    "    return df\n",
    "\n",
    "def closest_patents(df, n_clusters = 5):\n",
    "    \n",
    "    \"\"\"\n",
    "        df: a dataframe consisted of patent data\n",
    "        n_clusters: number of clusters given\n",
    "        return: a dataframe consisted of patents closest to each cluster\n",
    "    \"\"\"\n",
    "    \n",
    "    df.reset_index(inplace = True)\n",
    "    df2 = pd.DataFrame(index = np.arange(n_clusters), columns = df.columns.values)\n",
    "    for i in range(n_clusters):\n",
    "        df2.iloc[i] = df.loc[df['distance' + str(i)].idxmin()]\n",
    "    return df2"
   ]
  },
  {
   "cell_type": "code",
   "execution_count": null,
   "metadata": {
    "collapsed": true
   },
   "outputs": [],
   "source": [
    "df2 = distance_to_cluster(df)\n",
    "closest_patents = closest_patents(df2)"
   ]
  },
  {
   "cell_type": "code",
   "execution_count": null,
   "metadata": {
    "collapsed": true
   },
   "outputs": [],
   "source": [
    "closest_patents"
   ]
  },
  {
   "cell_type": "code",
   "execution_count": null,
   "metadata": {
    "collapsed": true
   },
   "outputs": [],
   "source": [
    "closest_patents.drop(['distance0', 'distance1', 'distance2', 'distance3', 'distance4'], axis = 1, inplace = True)"
   ]
  },
  {
   "cell_type": "code",
   "execution_count": null,
   "metadata": {
    "collapsed": true
   },
   "outputs": [],
   "source": [
    "cp=closest_patents"
   ]
  },
  {
   "cell_type": "code",
   "execution_count": null,
   "metadata": {
    "collapsed": true
   },
   "outputs": [],
   "source": [
    "\n",
    "\n"
   ]
  },
  {
   "cell_type": "code",
   "execution_count": null,
   "metadata": {
    "collapsed": true
   },
   "outputs": [],
   "source": []
  },
  {
   "cell_type": "code",
   "execution_count": null,
   "metadata": {
    "collapsed": true
   },
   "outputs": [],
   "source": [
    "plt.scatter(df['x_coor'],df['y_coor'])\n",
    "plt.scatter(f['x_coor'],f['y_coor'])\n",
    "plt.scatter(cp['x_coor'],cp['y_coor'])"
   ]
  },
  {
   "cell_type": "code",
   "execution_count": null,
   "metadata": {
    "collapsed": true
   },
   "outputs": [],
   "source": [
    "\"\"\"import pandas as pd\n",
    "from pandas import DataFrame\n",
    "import matplotlib.pyplot as plt\n",
    "from mpl_toolkits.mplot3d import Axes3D\n",
    "%matplotlib inline\"\"\""
   ]
  },
  {
   "cell_type": "code",
   "execution_count": null,
   "metadata": {
    "collapsed": true
   },
   "outputs": [],
   "source": [
    "\"\"\"threedee = plt.figure(figsize=(20,20)).gca(projection='3d')\n",
    "threedee.scatter(df['x_coor'],df['y_coor'],df['z_coor'],color='yellow')\n",
    "threedee.scatter(f['x_coor'],f['y_coor'],f['z_coor'],color='red')\n",
    "threedee.scatter(cp['x_coor'],cp['y_coor'],cp['z_coor'],color='blue')\n",
    "threedee.set_xlabel('X')\n",
    "threedee.set_ylabel('Y')\n",
    "threedee.set_zlabel('Z')\n",
    "threedee.view_init(20, 40)\n",
    "plt.show()\"\"\""
   ]
  },
  {
   "cell_type": "code",
   "execution_count": null,
   "metadata": {
    "collapsed": true
   },
   "outputs": [],
   "source": []
  },
  {
   "cell_type": "code",
   "execution_count": null,
   "metadata": {
    "collapsed": true
   },
   "outputs": [],
   "source": []
  },
  {
   "cell_type": "code",
   "execution_count": null,
   "metadata": {
    "collapsed": true
   },
   "outputs": [],
   "source": []
  },
  {
   "cell_type": "code",
   "execution_count": null,
   "metadata": {
    "collapsed": true
   },
   "outputs": [],
   "source": [
    "upe[upe[0].str.contains(\"8487838\")]"
   ]
  },
  {
   "cell_type": "code",
   "execution_count": null,
   "metadata": {
    "collapsed": true
   },
   "outputs": [],
   "source": [
    "cp=closest_patents"
   ]
  },
  {
   "cell_type": "code",
   "execution_count": null,
   "metadata": {
    "collapsed": true
   },
   "outputs": [],
   "source": []
  },
  {
   "cell_type": "code",
   "execution_count": null,
   "metadata": {
    "collapsed": true
   },
   "outputs": [],
   "source": []
  },
  {
   "cell_type": "code",
   "execution_count": null,
   "metadata": {
    "collapsed": true
   },
   "outputs": [],
   "source": []
  },
  {
   "cell_type": "code",
   "execution_count": null,
   "metadata": {
    "collapsed": true
   },
   "outputs": [],
   "source": []
  },
  {
   "cell_type": "code",
   "execution_count": null,
   "metadata": {
    "collapsed": true
   },
   "outputs": [],
   "source": []
  },
  {
   "cell_type": "code",
   "execution_count": null,
   "metadata": {
    "collapsed": true
   },
   "outputs": [],
   "source": []
  },
  {
   "cell_type": "code",
   "execution_count": null,
   "metadata": {
    "collapsed": true
   },
   "outputs": [],
   "source": []
  },
  {
   "cell_type": "code",
   "execution_count": null,
   "metadata": {
    "collapsed": true
   },
   "outputs": [],
   "source": []
  },
  {
   "cell_type": "code",
   "execution_count": null,
   "metadata": {
    "collapsed": true
   },
   "outputs": [],
   "source": []
  },
  {
   "cell_type": "code",
   "execution_count": null,
   "metadata": {
    "collapsed": true
   },
   "outputs": [],
   "source": []
  },
  {
   "cell_type": "code",
   "execution_count": null,
   "metadata": {
    "collapsed": true
   },
   "outputs": [],
   "source": []
  },
  {
   "cell_type": "code",
   "execution_count": null,
   "metadata": {
    "collapsed": true
   },
   "outputs": [],
   "source": []
  },
  {
   "cell_type": "code",
   "execution_count": null,
   "metadata": {
    "collapsed": true
   },
   "outputs": [],
   "source": []
  },
  {
   "cell_type": "raw",
   "metadata": {},
   "source": [
    "\n",
    "\n",
    "sns.regplot(data=df, x=\"x_coor\", y=\"y_coor\", fit_reg=False, marker=\"+\", color=\"skyblue\")\n",
    "#sns.regplot(data=f, x=\"x_coor\", y=\"y_coor\", fit_reg=False, marker=\"x\", color=\"red\")\n",
    "sns.regplot(data=cp, x=\"x_coor\", y=\"y_coor\", fit_reg=False, marker=\"*\", color=\"blue\")\n",
    "#sns.plt.show()\n",
    "# basic plot\n",
    "p1=sns.regplot(data=f, x=\"x_coor\", y=\"y_coor\", fit_reg=False, marker=\"x\", color=\"red\", scatter_kws={'s':400})\n",
    " \n",
    "# add annotations one by one with a loop\n",
    "for line in range(0,cp.shape[0]):\n",
    "     print(cp['Examiner'][line])\n",
    "     p1.text(cp['x_coor'][line]+0.2, cp['y_coor'][line], cp['Examiner'][line], horizontalalignment='left', size='medium', color='black', weight='semibold')\n",
    " \n",
    "# see it\n",
    "#sns.plt.show()\n"
   ]
  },
  {
   "cell_type": "code",
   "execution_count": null,
   "metadata": {
    "collapsed": true
   },
   "outputs": [],
   "source": []
  },
  {
   "cell_type": "code",
   "execution_count": null,
   "metadata": {
    "collapsed": true
   },
   "outputs": [],
   "source": []
  },
  {
   "cell_type": "code",
   "execution_count": null,
   "metadata": {
    "collapsed": true
   },
   "outputs": [],
   "source": []
  },
  {
   "cell_type": "code",
   "execution_count": null,
   "metadata": {
    "collapsed": true
   },
   "outputs": [],
   "source": []
  },
  {
   "cell_type": "code",
   "execution_count": null,
   "metadata": {
    "collapsed": true
   },
   "outputs": [],
   "source": []
  },
  {
   "cell_type": "code",
   "execution_count": null,
   "metadata": {
    "collapsed": true
   },
   "outputs": [],
   "source": [
    "x_seed = f['x_coor']\n",
    "y_seed = f['y_coor']\n",
    "z_seed = f['z_coor']"
   ]
  },
  {
   "cell_type": "code",
   "execution_count": null,
   "metadata": {
    "collapsed": true
   },
   "outputs": [],
   "source": [
    "x_cp = list(cp['x_coor'])\n",
    "y_cp = list(cp['y_coor'])\n",
    "z_cp = list(cp['z_coor'])"
   ]
  },
  {
   "cell_type": "code",
   "execution_count": null,
   "metadata": {
    "collapsed": true
   },
   "outputs": [],
   "source": [
    "dist_seed_x=[]\n",
    "for i in range(len(x_cp)):\n",
    "    dist_seed_x.append(((x_seed - x_cp[i])**2 + (y_seed - y_cp[i])**2 + (z_seed - z_cp[i]**2))**(0.5))"
   ]
  },
  {
   "cell_type": "code",
   "execution_count": null,
   "metadata": {
    "collapsed": true
   },
   "outputs": [],
   "source": [
    "dist_seed_x"
   ]
  },
  {
   "cell_type": "code",
   "execution_count": null,
   "metadata": {
    "collapsed": true,
    "scrolled": true
   },
   "outputs": [],
   "source": [
    "clust_p"
   ]
  },
  {
   "cell_type": "code",
   "execution_count": null,
   "metadata": {
    "collapsed": true
   },
   "outputs": [],
   "source": [
    "x_cluster = list(clust_p['x_coor'])\n",
    "y_cluster = list(clust_p['y_coor'])\n",
    "z_cluster = list(clust_p['z_coor'])"
   ]
  },
  {
   "cell_type": "code",
   "execution_count": null,
   "metadata": {
    "collapsed": true
   },
   "outputs": [],
   "source": [
    "dist_seed_cluster=[]\n",
    "for i in range(len(x_cluster)):\n",
    "    dist_seed_cluster.append(float(((x_seed - x_cluster[i])**2 + (y_seed - y_cluster[i])**2 + (z_seed - z_cluster[i])**2)**(0.5)))\n",
    "                             \n",
    "                             \n",
    "                             \n",
    "                             \n",
    "                             "
   ]
  },
  {
   "cell_type": "code",
   "execution_count": null,
   "metadata": {
    "collapsed": true
   },
   "outputs": [],
   "source": [
    "dist_seed_cluster"
   ]
  },
  {
   "cell_type": "code",
   "execution_count": null,
   "metadata": {
    "collapsed": true
   },
   "outputs": [],
   "source": [
    "clust_p['Distance_seed'] = dist_seed_cluster"
   ]
  },
  {
   "cell_type": "code",
   "execution_count": null,
   "metadata": {
    "collapsed": true
   },
   "outputs": [],
   "source": []
  },
  {
   "cell_type": "code",
   "execution_count": null,
   "metadata": {
    "collapsed": true,
    "scrolled": false
   },
   "outputs": [],
   "source": [
    "clust_p"
   ]
  },
  {
   "cell_type": "code",
   "execution_count": null,
   "metadata": {
    "collapsed": true
   },
   "outputs": [],
   "source": [
    "sorted_same_cluster = clust_p.sort_values(by = ['Distance_seed'])"
   ]
  },
  {
   "cell_type": "code",
   "execution_count": null,
   "metadata": {
    "collapsed": true
   },
   "outputs": [],
   "source": [
    "sorted_same_cluster"
   ]
  },
  {
   "cell_type": "code",
   "execution_count": null,
   "metadata": {
    "collapsed": true
   },
   "outputs": [],
   "source": [
    "x_all = list(df['x_coor'])\n",
    "y_all = list(df['y_coor'])\n",
    "z_all = list(df['z_coor'])"
   ]
  },
  {
   "cell_type": "code",
   "execution_count": null,
   "metadata": {
    "collapsed": true
   },
   "outputs": [],
   "source": [
    "dist_seed_all=[]\n",
    "for i in range(len(x_all)):\n",
    "    dist_seed_all.append(float(((x_seed - x_all[i])**2 + (y_seed - y_all[i])**2 + (z_seed - z_all[i])**2)**(0.5)))\n",
    "                             \n",
    "                             \n",
    "                             \n",
    "                             \n",
    "                             "
   ]
  },
  {
   "cell_type": "code",
   "execution_count": null,
   "metadata": {
    "collapsed": true
   },
   "outputs": [],
   "source": [
    "dist_seed_all"
   ]
  },
  {
   "cell_type": "code",
   "execution_count": null,
   "metadata": {
    "collapsed": true
   },
   "outputs": [],
   "source": [
    "df['dist_seed'] = dist_seed_all"
   ]
  },
  {
   "cell_type": "code",
   "execution_count": null,
   "metadata": {
    "collapsed": true
   },
   "outputs": [],
   "source": [
    "new_all = df"
   ]
  },
  {
   "cell_type": "code",
   "execution_count": null,
   "metadata": {
    "collapsed": true
   },
   "outputs": [],
   "source": [
    "new_all_sort = new_all.sort_values(by=['dist_seed'])"
   ]
  },
  {
   "cell_type": "code",
   "execution_count": null,
   "metadata": {
    "collapsed": true
   },
   "outputs": [],
   "source": [
    "wrt_all_sort = new_all_sort[0:6]"
   ]
  },
  {
   "cell_type": "code",
   "execution_count": null,
   "metadata": {
    "collapsed": true
   },
   "outputs": [],
   "source": [
    "wrt_same_sort = sorted_same_cluster[0:6]"
   ]
  },
  {
   "cell_type": "code",
   "execution_count": null,
   "metadata": {
    "collapsed": true
   },
   "outputs": [],
   "source": [
    "wrt_all_sort"
   ]
  },
  {
   "cell_type": "code",
   "execution_count": null,
   "metadata": {
    "collapsed": true
   },
   "outputs": [],
   "source": [
    "wrt_same_sort"
   ]
  },
  {
   "cell_type": "code",
   "execution_count": null,
   "metadata": {},
   "outputs": [],
   "source": [
    "import pandas as pd\n",
    "import numpy as np\n",
    "\n",
    "\n",
    "\n",
    "sns.regplot(data=df, x=\"x_coor\", y=\"y_coor\", fit_reg=False, marker=\"+\", color=\"skyblue\")\n",
    "#sns.regplot(data=f, x=\"x_coor\", y=\"y_coor\", fit_reg=False, marker=\"x\", color=\"red\")\n",
    "sns.regplot(data=wrt_all_sort, x=\"x_coor\", y=\"y_coor\", fit_reg=False, marker=\"*\", color=\"blue\")\n",
    "#sns.plt.show()\n",
    "# basic plot\n",
    "p1=sns.regplot(data=f, x=\"x_coor\", y=\"y_coor\", fit_reg=False, marker=\"x\", color=\"red\", scatter_kws={'s':400})\n",
    " \n",
    "# add annotations one by one with a loop\n",
    "for line in range(0,cp.shape[0]):\n",
    "     print(cp['Examiner'][line])\n",
    "     p1.text(cp['x_coor'][line]+0.2, cp['y_coor'][line], cp['Examiner'][line], horizontalalignment='left', size='medium', color='black', weight='semibold')\n",
    " \n",
    "# see it\n",
    "#sns.plt.show()"
   ]
  },
  {
   "cell_type": "code",
   "execution_count": null,
   "metadata": {
    "collapsed": true
   },
   "outputs": [],
   "source": [
    "wss = wrt_same_sort"
   ]
  },
  {
   "cell_type": "code",
   "execution_count": null,
   "metadata": {
    "collapsed": true
   },
   "outputs": [],
   "source": [
    "wss_new = wss.append(wrt_all_sort,ignore_index=True)"
   ]
  },
  {
   "cell_type": "code",
   "execution_count": null,
   "metadata": {
    "collapsed": true
   },
   "outputs": [],
   "source": [
    "wss_new = wss_new.drop('Distance_seed',axis=1)"
   ]
  },
  {
   "cell_type": "code",
   "execution_count": null,
   "metadata": {
    "collapsed": true
   },
   "outputs": [],
   "source": [
    "wss_new\n"
   ]
  },
  {
   "cell_type": "code",
   "execution_count": 225,
   "metadata": {
    "collapsed": true
   },
   "outputs": [],
   "source": [
    "import seaborn as sns\n",
    "import matplotlib.pyplot as plt\n",
    "%matplotlib inline"
   ]
  },
  {
   "cell_type": "code",
   "execution_count": 226,
   "metadata": {},
   "outputs": [
    {
     "data": {
      "text/plain": [
       "<matplotlib.axes._subplots.AxesSubplot at 0x1a99d8588>"
      ]
     },
     "execution_count": 226,
     "metadata": {},
     "output_type": "execute_result"
    },
    {
     "data": {
      "image/png": "[encoded data removed]",
      "text/plain": [
       "<Figure size 432x288 with 1 Axes>"
      ]
     },
     "metadata": {
      "needs_background": "light"
     },
     "output_type": "display_data"
    }
   ],
   "source": [
    "\n",
    "sns.scatterplot(x=\"x_coor\", y=\"y_coor\", hue=\"cluster\",style=\"cluster\",data=df_today)\n",
    "sns.scatterplot(x=\"x_coor\", y=\"y_coor\",data=clust_p)\n",
    "sns.scatterplot(x=\"x_coor\", y=\"y_coor\",data=f)"
   ]
  },
  {
   "cell_type": "code",
   "execution_count": null,
   "metadata": {},
   "outputs": [],
   "source": []
  },
  {
   "cell_type": "code",
   "execution_count": 228,
   "metadata": {},
   "outputs": [
    {
     "data": {
      "text/plain": [
       "<matplotlib.axes._subplots.AxesSubplot at 0x1a99aebe0>"
      ]
     },
     "execution_count": 228,
     "metadata": {},
     "output_type": "execute_result"
    },
    {
     "data": {
      "image/png": "[encoded data removed]",
      "text/plain": [
       "<Figure size 432x288 with 1 Axes>"
      ]
     },
     "metadata": {
      "needs_background": "light"
     },
     "output_type": "display_data"
    }
   ],
   "source": [
    "\n",
    "sns.scatterplot(x=\"x_coor\", y=\"y_coor\", hue=\"cluster\",style=\"cluster\",data=df_today)\n",
    "sns.scatterplot(x=\"x_coor\", y=\"y_coor\",data=wrt_same_sort)\n",
    "sns.scatterplot(x=\"x_coor\", y=\"y_coor\",data=f)\n"
   ]
  },
  {
   "cell_type": "code",
   "execution_count": 229,
   "metadata": {},
   "outputs": [
    {
     "data": {
      "text/plain": [
       "<matplotlib.axes._subplots.AxesSubplot at 0x1a9af0400>"
      ]
     },
     "execution_count": 229,
     "metadata": {},
     "output_type": "execute_result"
    },
    {
     "data": {
      "image/png": "[encoded data removed]",
      "text/plain": [
       "<Figure size 432x288 with 1 Axes>"
      ]
     },
     "metadata": {
      "needs_background": "light"
     },
     "output_type": "display_data"
    }
   ],
   "source": [
    "sns.scatterplot(x=\"x_coor\", y=\"y_coor\", hue=\"cluster\",style=\"cluster\",data=df_today)\n",
    "sns.scatterplot(x=\"x_coor\", y=\"y_coor\",data=wrt_all_sort)\n",
    "sns.scatterplot(x=\"x_coor\", y=\"y_coor\",data=f)"
   ]
  },
  {
   "cell_type": "code",
   "execution_count": null,
   "metadata": {
    "collapsed": true
   },
   "outputs": [],
   "source": [
    "f"
   ]
  },
  {
   "cell_type": "code",
   "execution_count": null,
   "metadata": {
    "collapsed": true
   },
   "outputs": [],
   "source": [
    "today = df.sort_values(by=['grant_date'])"
   ]
  },
  {
   "cell_type": "code",
   "execution_count": null,
   "metadata": {
    "collapsed": true
   },
   "outputs": [],
   "source": [
    "rank_sort = [i for i in range(1,384)]"
   ]
  },
  {
   "cell_type": "code",
   "execution_count": null,
   "metadata": {
    "collapsed": true
   },
   "outputs": [],
   "source": [
    "today['rank_date']=rank_sort"
   ]
  },
  {
   "cell_type": "code",
   "execution_count": null,
   "metadata": {
    "collapsed": true
   },
   "outputs": [],
   "source": [
    "today = today.drop('rank_date',axis=1)"
   ]
  },
  {
   "cell_type": "code",
   "execution_count": null,
   "metadata": {
    "collapsed": true
   },
   "outputs": [],
   "source": [
    "today"
   ]
  },
  {
   "cell_type": "code",
   "execution_count": 169,
   "metadata": {},
   "outputs": [
    {
     "name": "stderr",
     "output_type": "stream",
     "text": [
      "/Applications/Ana/anaconda/lib/python3.6/site-packages/mpl_toolkits/mplot3d/art3d.py:726: FutureWarning: elementwise comparison failed; returning scalar instead, but in the future will perform elementwise comparison\n",
      "  if zdir == 'x':\n",
      "/Applications/Ana/anaconda/lib/python3.6/site-packages/mpl_toolkits/mplot3d/art3d.py:728: FutureWarning: elementwise comparison failed; returning scalar instead, but in the future will perform elementwise comparison\n",
      "  elif zdir == 'y':\n",
      "/Applications/Ana/anaconda/lib/python3.6/site-packages/mpl_toolkits/mplot3d/art3d.py:730: FutureWarning: elementwise comparison failed; returning scalar instead, but in the future will perform elementwise comparison\n",
      "  elif zdir[0] == '-':\n"
     ]
    },
    {
     "data": {
      "text/plain": [
       "<matplotlib.axes._subplots.Axes3DSubplot at 0x197c0a9e8>"
      ]
     },
     "execution_count": 169,
     "metadata": {},
     "output_type": "execute_result"
    }
   ],
   "source": [
    "sns.scatterplot(x=\"x_coor\", y=\"y_coor\", hue=\"assignee\",data=df_today)"
   ]
  },
  {
   "cell_type": "code",
   "execution_count": null,
   "metadata": {
    "collapsed": true
   },
   "outputs": [],
   "source": [
    "df = df.drop(['distance0','distance1','distance2','distance3','distance4'],axis=1)"
   ]
  },
  {
   "cell_type": "code",
   "execution_count": null,
   "metadata": {
    "collapsed": true
   },
   "outputs": [],
   "source": [
    "df"
   ]
  },
  {
   "cell_type": "code",
   "execution_count": null,
   "metadata": {
    "collapsed": true
   },
   "outputs": [],
   "source": [
    "ssc = sorted_same_cluster.reset_index()"
   ]
  },
  {
   "cell_type": "code",
   "execution_count": null,
   "metadata": {
    "collapsed": true
   },
   "outputs": [],
   "source": [
    "ssc = ssc[:79]"
   ]
  },
  {
   "cell_type": "markdown",
   "metadata": {},
   "source": [
    "# Technology evolution"
   ]
  },
  {
   "cell_type": "code",
   "execution_count": null,
   "metadata": {
    "collapsed": true
   },
   "outputs": [],
   "source": [
    "ssc = ssc.sort_values(by=['grant_date'])"
   ]
  },
  {
   "cell_type": "code",
   "execution_count": null,
   "metadata": {
    "collapsed": true
   },
   "outputs": [],
   "source": [
    "years = list(ssc['grant_date'])"
   ]
  },
  {
   "cell_type": "code",
   "execution_count": null,
   "metadata": {
    "collapsed": true
   },
   "outputs": [],
   "source": [
    "time = []\n",
    "for i in years:\n",
    "    time.append(i[:4])"
   ]
  },
  {
   "cell_type": "code",
   "execution_count": null,
   "metadata": {
    "collapsed": true
   },
   "outputs": [],
   "source": [
    "out = list(set(time))\n",
    "out.sort()"
   ]
  },
  {
   "cell_type": "code",
   "execution_count": null,
   "metadata": {
    "collapsed": true
   },
   "outputs": [],
   "source": [
    "time_size = len(out)"
   ]
  },
  {
   "cell_type": "code",
   "execution_count": null,
   "metadata": {
    "collapsed": true
   },
   "outputs": [],
   "source": [
    "time_index=[i for i in range(1,time_size+1)]"
   ]
  },
  {
   "cell_type": "code",
   "execution_count": null,
   "metadata": {
    "collapsed": true
   },
   "outputs": [],
   "source": [
    "time_series = pd.DataFrame(\n",
    "    {'years': out,\n",
    "     'plane': time_index\n",
    "    })"
   ]
  },
  {
   "cell_type": "code",
   "execution_count": null,
   "metadata": {
    "collapsed": true
   },
   "outputs": [],
   "source": [
    "\n",
    "time_series"
   ]
  },
  {
   "cell_type": "code",
   "execution_count": null,
   "metadata": {
    "collapsed": true
   },
   "outputs": [],
   "source": [
    "ssc['grant_year'] = time"
   ]
  },
  {
   "cell_type": "code",
   "execution_count": null,
   "metadata": {
    "collapsed": true,
    "scrolled": false
   },
   "outputs": [],
   "source": [
    "ssc"
   ]
  },
  {
   "cell_type": "code",
   "execution_count": null,
   "metadata": {
    "collapsed": true
   },
   "outputs": [],
   "source": [
    "rslt = pd.merge(ssc, time_series, left_on=\"grant_year\", right_on=\"years\")"
   ]
  },
  {
   "cell_type": "code",
   "execution_count": null,
   "metadata": {
    "collapsed": true
   },
   "outputs": [],
   "source": [
    "rslt"
   ]
  },
  {
   "cell_type": "code",
   "execution_count": null,
   "metadata": {
    "collapsed": true
   },
   "outputs": [],
   "source": [
    "from mpl_toolkits.mplot3d import Axes3D\n",
    "my_color=rslt['plane']\n",
    "fig = plt.figure()\n",
    "ax = fig.add_subplot(111, projection='3d')\n",
    "ax.scatter(rslt['x_coor'], rslt['y_coor'], rslt['plane'], c=my_color, cmap=\"Set2_r\", s=60)\n"
   ]
  },
  {
   "cell_type": "code",
   "execution_count": null,
   "metadata": {
    "collapsed": true
   },
   "outputs": [],
   "source": [
    "r_new = rslt.drop(['title','abstract','citation','cpc'],axis=1)"
   ]
  },
  {
   "cell_type": "code",
   "execution_count": null,
   "metadata": {
    "collapsed": true
   },
   "outputs": [],
   "source": [
    "r_new = r_new.drop(['years','terms','index'],axis=1)"
   ]
  },
  {
   "cell_type": "code",
   "execution_count": null,
   "metadata": {
    "collapsed": true
   },
   "outputs": [],
   "source": [
    "r_new.to_csv('tech_process.csv')"
   ]
  },
  {
   "cell_type": "code",
   "execution_count": null,
   "metadata": {
    "collapsed": true
   },
   "outputs": [],
   "source": [
    "r_new"
   ]
  },
  {
   "cell_type": "code",
   "execution_count": null,
   "metadata": {
    "collapsed": true
   },
   "outputs": [],
   "source": []
  },
  {
   "cell_type": "code",
   "execution_count": null,
   "metadata": {
    "collapsed": true
   },
   "outputs": [],
   "source": [
    "%matplotlib notebook\n",
    "%matplotlib ipympl\n",
    "from mpl_toolkits import mplot3d\n",
    "plt.plot([0, 1, 2, 2]);"
   ]
  },
  {
   "cell_type": "code",
   "execution_count": null,
   "metadata": {
    "collapsed": true
   },
   "outputs": [],
   "source": [
    "\n",
    "fig = plt.figure()\n",
    "ax = fig.add_subplot(111, projection='3d')\n",
    "#ax.scatter(df_today['x_coor'], df_today['y_coor'], df_today['z_coor'], color = 'white', cmap=\"Set2_r\", s=60)\n",
    "ax.scatter(f['x_coor'], f['y_coor'], f['z_coor'], color = 'red', cmap=\"Set2_r\", s=60)\n",
    "ax.scatter(wrt_all_sort['x_coor'], wrt_all_sort['y_coor'], wrt_all_sort['z_coor'], color = 'green', cmap=\"Set2_r\", s=60)"
   ]
  },
  {
   "cell_type": "code",
   "execution_count": null,
   "metadata": {
    "collapsed": true
   },
   "outputs": [],
   "source": [
    "fig = plt.figure()\n",
    "ax = fig.add_subplot(111, projection='3d')\n",
    "#ax.scatter(df_today['x_coor'], df_today['y_coor'], df_today['z_coor'], color = 'white', cmap=\"Set2_r\", s=60)\n",
    "ax.scatter(f['x_coor'], f['y_coor'], f['z_coor'], color = 'red', cmap=\"Set2_r\", s=60)\n",
    "ax.scatter(wrt_same_sort['x_coor'], wrt_same_sort['y_coor'], wrt_same_sort['z_coor'], color = 'green', cmap=\"Set2_r\", s=60)"
   ]
  },
  {
   "cell_type": "code",
   "execution_count": null,
   "metadata": {
    "collapsed": true
   },
   "outputs": [],
   "source": [
    "fig = plt.figure()\n",
    "ax = fig.add_subplot(111, projection='3d')\n",
    "ax.scatter(df_today['x_coor'], df_today['y_coor'], df_today['z_coor'], color = 'white', cmap=\"Set2_r\", s=60)\n",
    "ax.scatter(f['x_coor'], f['y_coor'], f['z_coor'], color = 'red', cmap=\"Set2_r\", s=60)\n",
    "#ax.scatter(wrt_all_sort['x_coor'], wrt_all_sort['y_coor'], wrt_all_sort['z_coor'], color = 'green', cmap=\"Set2_r\", s=60)"
   ]
  },
  {
   "cell_type": "code",
   "execution_count": null,
   "metadata": {
    "collapsed": true
   },
   "outputs": [],
   "source": []
  },
  {
   "cell_type": "code",
   "execution_count": null,
   "metadata": {
    "collapsed": true
   },
   "outputs": [],
   "source": []
  },
  {
   "cell_type": "markdown",
   "metadata": {},
   "source": [
    "# Tech evolution for the full database"
   ]
  },
  {
   "cell_type": "code",
   "execution_count": null,
   "metadata": {
    "collapsed": true
   },
   "outputs": [],
   "source": [
    "oct_18 = df\n",
    "oct_18 = oct_18.sort_values(by=['grant_date'])\n",
    "all_years = list(oct_18['grant_date'])\n",
    "all_time = []\n",
    "for i in all_years:\n",
    "    all_time.append(i[:4])\n",
    "all_out = list(set(all_time))\n",
    "all_out.sort()\n"
   ]
  },
  {
   "cell_type": "code",
   "execution_count": null,
   "metadata": {
    "collapsed": true
   },
   "outputs": [],
   "source": [
    "all_time_size = len(all_out)\n",
    "all_time_index=[i for i in range(1,all_time_size+1)]\n",
    "all_time_series = pd.DataFrame(\n",
    "    {'years': all_out,\n",
    "     'plane': all_time_index\n",
    "    })\n",
    "all_time_series"
   ]
  },
  {
   "cell_type": "code",
   "execution_count": null,
   "metadata": {
    "collapsed": true
   },
   "outputs": [],
   "source": [
    "oct_18['grant_year'] = all_time"
   ]
  },
  {
   "cell_type": "code",
   "execution_count": null,
   "metadata": {
    "collapsed": true
   },
   "outputs": [],
   "source": []
  },
  {
   "cell_type": "code",
   "execution_count": null,
   "metadata": {
    "collapsed": true
   },
   "outputs": [],
   "source": [
    "all_rslt = pd.merge(oct_18, all_time_series, left_on=\"grant_year\", right_on=\"years\")"
   ]
  },
  {
   "cell_type": "code",
   "execution_count": null,
   "metadata": {
    "collapsed": true
   },
   "outputs": [],
   "source": [
    "all_rslt"
   ]
  },
  {
   "cell_type": "code",
   "execution_count": 171,
   "metadata": {},
   "outputs": [
    {
     "name": "stderr",
     "output_type": "stream",
     "text": [
      "/Applications/Ana/anaconda/lib/python3.6/site-packages/matplotlib/pyplot.py:537: RuntimeWarning: More than 20 figures have been opened. Figures created through the pyplot interface (`matplotlib.pyplot.figure`) are retained until explicitly closed and may consume too much memory. (To control this warning, see the rcParam `figure.max_open_warning`).\n",
      "  max_open_warning, RuntimeWarning)\n"
     ]
    },
    {
     "data": {
      "application/vnd.jupyter.widget-view+json": {
       "model_id": "",
       "version_major": 2,
       "version_minor": 0
      },
      "text/plain": [
       "FigureCanvasNbAgg()"
      ]
     },
     "metadata": {},
     "output_type": "display_data"
    },
    {
     "data": {
      "text/plain": [
       "<mpl_toolkits.mplot3d.art3d.Path3DCollection at 0x197f8c630>"
      ]
     },
     "execution_count": 171,
     "metadata": {},
     "output_type": "execute_result"
    }
   ],
   "source": [
    "my_color=all_rslt['cluster']\n",
    "fig = plt.figure()\n",
    "ax = fig.add_subplot(111, projection='3d')\n",
    "ax.scatter(all_rslt['plane'], all_rslt['x_coor'], all_rslt['y_coor'], c=my_color, cmap=\"Set2_r\", s=5)\n"
   ]
  },
  {
   "cell_type": "code",
   "execution_count": 141,
   "metadata": {
    "collapsed": true
   },
   "outputs": [],
   "source": [
    "all_rslt.to_csv('timeseries.csv')"
   ]
  },
  {
   "cell_type": "code",
   "execution_count": 208,
   "metadata": {
    "collapsed": true
   },
   "outputs": [],
   "source": [
    "idea =  pd.read_csv('timeseries.csv', index_col = 0)"
   ]
  },
  {
   "cell_type": "code",
   "execution_count": null,
   "metadata": {},
   "outputs": [],
   "source": []
  },
  {
   "cell_type": "code",
   "execution_count": 211,
   "metadata": {},
   "outputs": [
    {
     "name": "stderr",
     "output_type": "stream",
     "text": [
      "/Applications/Ana/anaconda/lib/python3.6/site-packages/ipykernel_launcher.py:4: SettingWithCopyWarning: \n",
      "A value is trying to be set on a copy of a slice from a DataFrame\n",
      "\n",
      "See the caveats in the documentation: http://pandas.pydata.org/pandas-docs/stable/indexing.html#indexing-view-versus-copy\n",
      "  after removing the cwd from sys.path.\n"
     ]
    }
   ],
   "source": [
    "for i in range(0,5):\n",
    "    for j in range(0,383):\n",
    "        if idea.cluster[j] == i:\n",
    "            idea.y_coor[j] = idea.y_coor[j] + 10*(i+1)"
   ]
  },
  {
   "cell_type": "code",
   "execution_count": 219,
   "metadata": {},
   "outputs": [
    {
     "name": "stderr",
     "output_type": "stream",
     "text": [
      "/Applications/Ana/anaconda/lib/python3.6/site-packages/matplotlib/pyplot.py:537: RuntimeWarning: More than 20 figures have been opened. Figures created through the pyplot interface (`matplotlib.pyplot.figure`) are retained until explicitly closed and may consume too much memory. (To control this warning, see the rcParam `figure.max_open_warning`).\n",
      "  max_open_warning, RuntimeWarning)\n"
     ]
    },
    {
     "data": {
      "application/vnd.jupyter.widget-view+json": {
       "model_id": "",
       "version_major": 2,
       "version_minor": 0
      },
      "text/plain": [
       "FigureCanvasNbAgg()"
      ]
     },
     "metadata": {},
     "output_type": "display_data"
    },
    {
     "data": {
      "text/plain": [
       "<mpl_toolkits.mplot3d.art3d.Path3DCollection at 0x1af46e3c8>"
      ]
     },
     "execution_count": 219,
     "metadata": {},
     "output_type": "execute_result"
    }
   ],
   "source": [
    "my_color=idea['cluster']\n",
    "fig = plt.figure()\n",
    "ax = fig.add_subplot(111, projection='3d')\n",
    "ax.scatter(idea['plane'], idea['x_coor'], idea['y_coor'], c=my_color, cmap=\"Set2_r\", s=2)\n"
   ]
  },
  {
   "cell_type": "code",
   "execution_count": null,
   "metadata": {
    "collapsed": true
   },
   "outputs": [],
   "source": []
  },
  {
   "cell_type": "code",
   "execution_count": 200,
   "metadata": {},
   "outputs": [
    {
     "name": "stderr",
     "output_type": "stream",
     "text": [
      "/Applications/Ana/anaconda/lib/python3.6/site-packages/seaborn/axisgrid.py:230: UserWarning: The `size` paramter has been renamed to `height`; please update your code.\n",
      "  warnings.warn(msg, UserWarning)\n",
      "/Applications/Ana/anaconda/lib/python3.6/site-packages/matplotlib/pyplot.py:537: RuntimeWarning: More than 20 figures have been opened. Figures created through the pyplot interface (`matplotlib.pyplot.figure`) are retained until explicitly closed and may consume too much memory. (To control this warning, see the rcParam `figure.max_open_warning`).\n",
      "  max_open_warning, RuntimeWarning)\n"
     ]
    },
    {
     "data": {
      "application/vnd.jupyter.widget-view+json": {
       "model_id": "",
       "version_major": 2,
       "version_minor": 0
      },
      "text/plain": [
       "FigureCanvasNbAgg()"
      ]
     },
     "metadata": {},
     "output_type": "display_data"
    }
   ],
   "source": [
    "temp = pd.DataFrame({'x': all_rslt['plane'], 'y': idea['y_coor'], 'z': all_rslt['x_coor'], 'h' : all_rslt['cluster']})\n",
    "\n",
    "\n",
    "pal = sns.color_palette()\n",
    "g = sns.FacetGrid(temp, row=\"x\", hue=\"h\", aspect=15, size=.5, palette=pal)\n",
    "g.map(plt.scatter, 'y', 'z')\n",
    "g.map(plt.axhline, y=0, lw=2, clip_on=False)\n",
    "# Set the subplots to overlap\n",
    "g.fig.subplots_adjust(hspace=-.00)\n",
    "g.set_titles(\"\")\n",
    "g.set(yticks=[])\n",
    "g.despine(bottom=True, left=True)\n",
    "\n",
    "plt.show()"
   ]
  },
  {
   "cell_type": "code",
   "execution_count": 214,
   "metadata": {
    "collapsed": true
   },
   "outputs": [],
   "source": [
    "test =  pd.read_csv('timeseries.csv', index_col = 0)"
   ]
  },
  {
   "cell_type": "code",
   "execution_count": 217,
   "metadata": {},
   "outputs": [
    {
     "data": {
      "text/plain": [
       "count    3.830000e+02\n",
       "mean    -2.440751e-16\n",
       "std      1.001308e+00\n",
       "min     -2.321507e+00\n",
       "25%     -6.725121e-01\n",
       "50%     -1.575246e-02\n",
       "75%      6.595068e-01\n",
       "max      2.949852e+00\n",
       "Name: y_coor, dtype: float64"
      ]
     },
     "execution_count": 217,
     "metadata": {},
     "output_type": "execute_result"
    }
   ],
   "source": [
    "test['y_coor'].describe()"
   ]
  },
  {
   "cell_type": "code",
   "execution_count": null,
   "metadata": {
    "collapsed": true
   },
   "outputs": [],
   "source": []
  }
 ],
 "metadata": {
  "kernelspec": {
   "display_name": "Python 3",
   "language": "python",
   "name": "python3"
  },
  "language_info": {
   "codemirror_mode": {
    "name": "ipython",
    "version": 3
   },
   "file_extension": ".py",
   "mimetype": "text/x-python",
   "name": "python",
   "nbconvert_exporter": "python",
   "pygments_lexer": "ipython3",
   "version": "3.6.1"
  }
 },
 "nbformat": 4,
 "nbformat_minor": 2
}
