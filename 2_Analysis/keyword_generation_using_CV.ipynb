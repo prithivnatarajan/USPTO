{
 "cells": [
  {
   "cell_type": "code",
   "execution_count": 1,
   "metadata": {
    "collapsed": true
   },
   "outputs": [],
   "source": [
    "import numpy as np\n",
    "import pandas as pd\n",
    "import nltk\n",
    "from sklearn.feature_extraction.text import CountVectorizer, TfidfTransformer, TfidfVectorizer\n",
    "from sklearn.decomposition import PCA\n",
    "from sklearn.cluster import KMeans\n",
    "import seaborn as sns; sns.set()\n",
    "import matplotlib.pyplot as plt\n",
    "%matplotlib inline"
   ]
  },
  {
   "cell_type": "code",
   "execution_count": null,
   "metadata": {
    "collapsed": true
   },
   "outputs": [],
   "source": []
  },
  {
   "cell_type": "code",
   "execution_count": null,
   "metadata": {
    "collapsed": true
   },
   "outputs": [],
   "source": []
  },
  {
   "cell_type": "code",
   "execution_count": null,
   "metadata": {
    "collapsed": true
   },
   "outputs": [],
   "source": []
  },
  {
   "cell_type": "code",
   "execution_count": null,
   "metadata": {
    "collapsed": true
   },
   "outputs": [],
   "source": []
  },
  {
   "cell_type": "code",
   "execution_count": null,
   "metadata": {
    "collapsed": true
   },
   "outputs": [],
   "source": []
  },
  {
   "cell_type": "code",
   "execution_count": null,
   "metadata": {
    "collapsed": true
   },
   "outputs": [],
   "source": []
  },
  {
   "cell_type": "code",
   "execution_count": null,
   "metadata": {
    "collapsed": true
   },
   "outputs": [],
   "source": []
  },
  {
   "cell_type": "code",
   "execution_count": null,
   "metadata": {
    "collapsed": true
   },
   "outputs": [],
   "source": [
    "dtf = pd.read_csv('examiner_new.csv', index_col = 0)\n"
   ]
  },
  {
   "cell_type": "code",
   "execution_count": 2,
   "metadata": {
    "collapsed": true
   },
   "outputs": [],
   "source": [
    "dataframe = pd.read_csv('newest_data.csv', index_col = 0)"
   ]
  },
  {
   "cell_type": "code",
   "execution_count": 3,
   "metadata": {
    "collapsed": true
   },
   "outputs": [],
   "source": [
    "dataframe = dataframe.drop(['citation','cpc','inventor','assignee','examiners','cpc_01','cpc_03','cites_01', 'x_coor','y_coor','z_coor'], axis=1)"
   ]
  },
  {
   "cell_type": "code",
   "execution_count": 4,
   "metadata": {
    "collapsed": true
   },
   "outputs": [],
   "source": [
    "dataframe = dataframe.drop(['cpc_02','joined_all'],axis=1)"
   ]
  },
  {
   "cell_type": "code",
   "execution_count": 5,
   "metadata": {
    "collapsed": true
   },
   "outputs": [],
   "source": [
    "dataframe = dataframe.drop(['grant_date'],axis=1)"
   ]
  },
  {
   "cell_type": "code",
   "execution_count": null,
   "metadata": {
    "collapsed": true
   },
   "outputs": [],
   "source": [
    "series = dataframe.joined_cleaned"
   ]
  },
  {
   "cell_type": "code",
   "execution_count": null,
   "metadata": {
    "collapsed": true
   },
   "outputs": [],
   "source": [
    "cat_series = series.str.cat(sep=' ')"
   ]
  },
  {
   "cell_type": "code",
   "execution_count": null,
   "metadata": {
    "collapsed": true
   },
   "outputs": [],
   "source": [
    "words = result['des'][0].split(' ')"
   ]
  },
  {
   "cell_type": "code",
   "execution_count": null,
   "metadata": {
    "collapsed": true
   },
   "outputs": [],
   "source": []
  },
  {
   "cell_type": "code",
   "execution_count": null,
   "metadata": {
    "collapsed": true
   },
   "outputs": [],
   "source": [
    "from collections import Counter\n",
    "\n",
    "a = Counter(words).keys() # equals to list(set(words))\n",
    "b = Counter(words).values() # counts the elements' frequency"
   ]
  },
  {
   "cell_type": "code",
   "execution_count": null,
   "metadata": {
    "collapsed": true
   },
   "outputs": [],
   "source": [
    "c= Counter(words)\n",
    "sred = sorted(c.items(), key=lambda value: value[1])\n",
    "sred"
   ]
  },
  {
   "cell_type": "markdown",
   "metadata": {},
   "source": [
    "# Getting the data together. Dataframe: row: integer indices and columns: [patent number, title, abstract, claims, description]"
   ]
  },
  {
   "cell_type": "code",
   "execution_count": null,
   "metadata": {},
   "outputs": [],
   "source": [
    "new_dataframe = dataframe.drop(['joined_cleaned'],axis=1)\n",
    "#new_dataframe = new_dataframe.drop(['description'],axis=1)\n",
    "new_dataframe"
   ]
  },
  {
   "cell_type": "markdown",
   "metadata": {},
   "source": [
    "# Extracting all the descriptions for patents\n"
   ]
  },
  {
   "cell_type": "code",
   "execution_count": null,
   "metadata": {},
   "outputs": [],
   "source": [
    "import zipfile\n",
    "archive = zipfile.ZipFile('patent_des.zip', 'r')\n",
    "op = pd.read_csv(archive.open('patent_des.tsv'), sep='\\t', header=None, encoding = \"ISO-8859-1\")\n",
    "#eg=op.iloc[1,1]\n",
    "#freq_eg = pd.Series(' '.join().split()).value_counts()[:20]\n",
    "op.columns=['patnum','des']\n",
    "op = op.drop(0)\n",
    "#series_description = op['des'].str.lower()\n",
    "op = op.dropna()\n",
    "op.columns=['pnt','des']\n",
    "\n",
    "\n",
    "\n",
    "result = pd.concat([new_dataframe, op], axis=1, sort=False)\n",
    "\n",
    "\n",
    "result['des'] = result['des'].shift(-1)\n",
    "result = result.drop(['pnt'],axis=1)\n",
    "\n",
    "result=result.dropna()\n",
    "result['abstract']=result['abstract'].str.lower()\n",
    "result['claims']=result['claims'].str.lower()\n",
    "result['des']=result['des'].str.lower()"
   ]
  },
  {
   "cell_type": "markdown",
   "metadata": {},
   "source": [
    "# Concatenating all columns into one training set X_train[...] = (titles+abstract+claims+description)"
   ]
  },
  {
   "cell_type": "code",
   "execution_count": 30,
   "metadata": {
    "collapsed": true
   },
   "outputs": [],
   "source": [
    "s = new_dataframe.iloc[0,1:4]\n",
    "s1= s.str.cat(sep='')\n",
    "s1\n",
    "\n",
    "all_strings = [result.iloc[i,1:5].str.cat(sep=' ') for i in range(0,12969)]"
   ]
  },
  {
   "cell_type": "code",
   "execution_count": 31,
   "metadata": {
    "collapsed": true
   },
   "outputs": [],
   "source": [
    "dr = pd.DataFrame(all_strings,columns=['joined'])"
   ]
  },
  {
   "cell_type": "code",
   "execution_count": null,
   "metadata": {},
   "outputs": [],
   "source": []
  },
  {
   "cell_type": "markdown",
   "metadata": {},
   "source": [
    "# AUTOMATE KEYWORD GENERATION\n"
   ]
  },
  {
   "cell_type": "code",
   "execution_count": null,
   "metadata": {
    "collapsed": true
   },
   "outputs": [],
   "source": [
    "#dataset= dataframe.drop(['title','claims','abstract'],axis=1)"
   ]
  },
  {
   "cell_type": "code",
   "execution_count": 34,
   "metadata": {
    "collapsed": true
   },
   "outputs": [],
   "source": [
    "dr['WordCount'] = [len(s) for s in dr['joined']] #finding word cout"
   ]
  },
  {
   "cell_type": "markdown",
   "metadata": {},
   "source": [
    "# most common words\n",
    "# dr=dataset"
   ]
  },
  {
   "cell_type": "code",
   "execution_count": null,
   "metadata": {
    "collapsed": true
   },
   "outputs": [],
   "source": [
    "\n",
    "freq = pd.Series(' '.join(dr['joined']).split()).value_counts()[:20]\n",
    "freq"
   ]
  },
  {
   "cell_type": "markdown",
   "metadata": {},
   "source": [
    "# Identify uncommon words"
   ]
  },
  {
   "cell_type": "code",
   "execution_count": null,
   "metadata": {
    "collapsed": true
   },
   "outputs": [],
   "source": [
    "\n",
    "freq1 =  pd.Series(' '.join(dr['joined']).split()).value_counts()[-20:]\n",
    "freq1"
   ]
  },
  {
   "cell_type": "markdown",
   "metadata": {},
   "source": [
    "# stemming and lemmatization\n",
    "# Libraries for text preprocessing"
   ]
  },
  {
   "cell_type": "code",
   "execution_count": 35,
   "metadata": {},
   "outputs": [
    {
     "name": "stdout",
     "output_type": "stream",
     "text": [
      "[nltk_data] Downloading package stopwords to\n",
      "[nltk_data]     /Users/prithiv/nltk_data...\n",
      "[nltk_data]   Package stopwords is already up-to-date!\n",
      "[nltk_data] Downloading package wordnet to /Users/prithiv/nltk_data...\n",
      "[nltk_data]   Package wordnet is already up-to-date!\n"
     ]
    }
   ],
   "source": [
    "\n",
    "from nltk.stem.porter import PorterStemmer\n",
    "from nltk.stem.wordnet import WordNetLemmatizer\n",
    "lem = WordNetLemmatizer()\n",
    "stem = PorterStemmer()\n",
    "\n",
    "import re\n",
    "import nltk\n",
    "nltk.download('stopwords')\n",
    "from nltk.corpus import stopwords\n",
    "from nltk.stem.porter import PorterStemmer\n",
    "from nltk.tokenize import RegexpTokenizer\n",
    "nltk.download('wordnet') \n",
    "from nltk.stem.wordnet import WordNetLemmatizer"
   ]
  },
  {
   "cell_type": "markdown",
   "metadata": {},
   "source": [
    "## Creating a list of stop words and adding custom stopwords"
   ]
  },
  {
   "cell_type": "code",
   "execution_count": 36,
   "metadata": {
    "collapsed": true
   },
   "outputs": [],
   "source": [
    "\n",
    "stop_words = set(stopwords.words(\"english\"))"
   ]
  },
  {
   "cell_type": "markdown",
   "metadata": {},
   "source": [
    "## Creating a list of custom stopwords"
   ]
  },
  {
   "cell_type": "code",
   "execution_count": 37,
   "metadata": {
    "collapsed": true
   },
   "outputs": [],
   "source": [
    "\n",
    "new_words = [\"invention\",\"configuration\",\"applications\",\"background\",\"field\",\"description\",\"\",\"using\", \"show\",\"claim\",\"claimed\",\"method\",\"second\",\"first\",\"comprising\", \"result\", \"large\", \"also\", \"iv\", \"one\", \"two\", \"would\",\"time\",\"new\", \"previously\", \"shown\",\"comprise\",\"sub\",\"computer\",\"system\"]\n",
    "stop_words = stop_words.union(new_words)\n"
   ]
  },
  {
   "cell_type": "markdown",
   "metadata": {},
   "source": [
    "# Carry out the pre-processing tasks step-by-step to get a cleaned and normalised text corpus:"
   ]
  },
  {
   "cell_type": "code",
   "execution_count": 38,
   "metadata": {
    "collapsed": true
   },
   "outputs": [],
   "source": [
    "\n",
    "corpus = []\n",
    "for i in range(0, 12969):\n",
    "    #Remove punctuations\n",
    "    text = re.sub('[^a-zA-Z]', ' ', dr['joined'][i])\n",
    "    \n",
    "    #Convert to lowercase\n",
    "    text = text.lower()\n",
    "    \n",
    "    #remove tags\n",
    "    text=re.sub(\"&lt;/?.*?&gt;\",\" &lt;&gt; \",text)\n",
    "    \n",
    "    # remove special characters and digits\n",
    "    text=re.sub(\"(\\\\d|\\\\W)+\",\" \",text)\n",
    "    \n",
    "    ##Convert to list from string\n",
    "    text = text.split()\n",
    "    \n",
    "    ##Stemming\n",
    "    ps=PorterStemmer()\n",
    "    #Lemmatisation\n",
    "    lem = WordNetLemmatizer()\n",
    "    text = [lem.lemmatize(word) for word in text if not word in  \n",
    "            stop_words] \n",
    "    text = \" \".join(text)\n",
    "    corpus.append(text)"
   ]
  },
  {
   "cell_type": "markdown",
   "metadata": {},
   "source": []
  },
  {
   "cell_type": "code",
   "execution_count": null,
   "metadata": {
    "collapsed": true
   },
   "outputs": [],
   "source": []
  },
  {
   "cell_type": "code",
   "execution_count": null,
   "metadata": {
    "collapsed": true
   },
   "outputs": [],
   "source": []
  },
  {
   "cell_type": "markdown",
   "metadata": {},
   "source": [
    "\n",
    "# Word cloud"
   ]
  },
  {
   "cell_type": "code",
   "execution_count": 39,
   "metadata": {},
   "outputs": [
    {
     "name": "stdout",
     "output_type": "stream",
     "text": [
      "<wordcloud.wordcloud.WordCloud object at 0x11b4e0f98>\n"
     ]
    },
    {
     "data": {
      "image/png": "[encoded data removed]",
      "text/plain": [
       "<Figure size 432x288 with 1 Axes>"
      ]
     },
     "metadata": {
      "needs_background": "light"
     },
     "output_type": "display_data"
    }
   ],
   "source": [
    "\n",
    "from os import path\n",
    "from PIL import Image\n",
    "from wordcloud import WordCloud, STOPWORDS, ImageColorGenerator\n",
    "% matplotlib inline\n",
    "wordcloud = WordCloud(\n",
    "                          background_color='white',\n",
    "                          stopwords=stop_words,\n",
    "                          max_words=100,\n",
    "                          max_font_size=50, \n",
    "                          random_state=42\n",
    "                         ).generate(str(corpus))\n",
    "print(wordcloud)\n",
    "fig = plt.figure(1)\n",
    "plt.imshow(wordcloud)\n",
    "plt.axis('off')\n",
    "plt.show()\n",
    "fig.savefig(\"word1.png\", dpi=900)"
   ]
  },
  {
   "cell_type": "markdown",
   "metadata": {},
   "source": [
    "# Fit to X"
   ]
  },
  {
   "cell_type": "code",
   "execution_count": 72,
   "metadata": {},
   "outputs": [
    {
     "name": "stdout",
     "output_type": "stream",
     "text": [
      "11771.391273021698\n"
     ]
    }
   ],
   "source": [
    "import time\n",
    "start = time.time()\n",
    "#fit\n",
    "from sklearn.feature_extraction.text import CountVectorizer\n",
    "import re\n",
    "cv=CountVectorizer(max_df=0.8,stop_words=stop_words, max_features=10000, ngram_range=(1,3))\n",
    "X=cv.fit_transform(corpus)\n",
    "end = time.time()\n",
    "print(end - start)"
   ]
  },
  {
   "cell_type": "code",
   "execution_count": 73,
   "metadata": {},
   "outputs": [
    {
     "data": {
      "text/plain": [
       "['distributed',\n",
       " 'management',\n",
       " 'embedded',\n",
       " 'agent',\n",
       " 'enterprise',\n",
       " 'mobile',\n",
       " 'disclosed',\n",
       " 'related',\n",
       " 'retrieved',\n",
       " 'storage']"
      ]
     },
     "execution_count": 73,
     "metadata": {},
     "output_type": "execute_result"
    }
   ],
   "source": [
    "list(cv.vocabulary_.keys())[:10]"
   ]
  },
  {
   "cell_type": "code",
   "execution_count": 101,
   "metadata": {},
   "outputs": [],
   "source": [
    "with open('train', 'wb') as f1:\n",
    "    pickle.dump([X], f1)\n",
    "#saving the training variable"
   ]
  },
  {
   "cell_type": "markdown",
   "metadata": {},
   "source": [
    "# n-grams, bi-grams, tri-grams\n",
    "# Most frequently occuring words"
   ]
  },
  {
   "cell_type": "code",
   "execution_count": 46,
   "metadata": {
    "collapsed": true
   },
   "outputs": [],
   "source": [
    "\n",
    "def get_top_n_words(corpus, n=None):\n",
    "    vec = CountVectorizer().fit(corpus)\n",
    "    bag_of_words = vec.transform(corpus)\n",
    "    sum_words = bag_of_words.sum(axis=0) \n",
    "    words_freq = [(word, sum_words[0, idx]) for word, idx in      \n",
    "                   vec.vocabulary_.items()]\n",
    "    words_freq =sorted(words_freq, key = lambda x: x[1], \n",
    "                       reverse=True)\n",
    "    return words_freq[:n]"
   ]
  },
  {
   "cell_type": "markdown",
   "metadata": {},
   "source": [
    "# Convert most freq words to dataframe for plotting bar plot"
   ]
  },
  {
   "cell_type": "code",
   "execution_count": 47,
   "metadata": {},
   "outputs": [
    {
     "data": {
      "text/plain": [
       "[Text(0,0,'data'),\n",
       " Text(0,0,'may'),\n",
       " Text(0,0,'fig'),\n",
       " Text(0,0,'user'),\n",
       " Text(0,0,'value'),\n",
       " Text(0,0,'example'),\n",
       " Text(0,0,'set'),\n",
       " Text(0,0,'input'),\n",
       " Text(0,0,'information'),\n",
       " Text(0,0,'embodiment'),\n",
       " Text(0,0,'said'),\n",
       " Text(0,0,'network'),\n",
       " Text(0,0,'rule'),\n",
       " Text(0,0,'function'),\n",
       " Text(0,0,'step'),\n",
       " Text(0,0,'output'),\n",
       " Text(0,0,'process'),\n",
       " Text(0,0,'model'),\n",
       " Text(0,0,'based'),\n",
       " Text(0,0,'device')]"
      ]
     },
     "execution_count": 47,
     "metadata": {},
     "output_type": "execute_result"
    },
    {
     "data": {
      "image/png": "[encoded data removed]",
      "text/plain": [
       "<Figure size 936x576 with 1 Axes>"
      ]
     },
     "metadata": {},
     "output_type": "display_data"
    }
   ],
   "source": [
    "\n",
    "top_words = get_top_n_words(corpus, n=20)\n",
    "top_df = pd.DataFrame(top_words)\n",
    "top_df.columns=[\"Word\", \"Freq\"]\n",
    "#Barplot of most freq words\n",
    "sns.set(rc={'figure.figsize':(13,8)})\n",
    "g = sns.barplot(x=\"Word\", y=\"Freq\", data=top_df)\n",
    "g.set_xticklabels(g.get_xticklabels(), rotation=30)"
   ]
  },
  {
   "cell_type": "markdown",
   "metadata": {},
   "source": [
    "# Most frequently occuring Bi-grams"
   ]
  },
  {
   "cell_type": "code",
   "execution_count": 48,
   "metadata": {},
   "outputs": [
    {
     "name": "stdout",
     "output_type": "stream",
     "text": [
      "                 Bi-gram    Freq\n",
      "0         neural network  134244\n",
      "1              time time  124413\n",
      "2            may include   76899\n",
      "3     embodiment present   62521\n",
      "4               fig show   57125\n",
      "5        fig illustrates   56648\n",
      "6           wherein said   54329\n",
      "7   preferred embodiment   50780\n",
      "8               may used   45775\n",
      "9               data set   43648\n",
      "10         block diagram   41001\n",
      "11        user interface   39713\n",
      "12            input data   39351\n",
      "13        knowledge base   36389\n",
      "14   membership function   33975\n",
      "15               fig fig   33733\n",
      "16        data structure   33151\n",
      "17        embodiment fig   31686\n",
      "18  according embodiment   31466\n",
      "19         training data   29818\n"
     ]
    },
    {
     "data": {
      "text/plain": [
       "[Text(0,0,'neural network'),\n",
       " Text(0,0,'time time'),\n",
       " Text(0,0,'may include'),\n",
       " Text(0,0,'embodiment present'),\n",
       " Text(0,0,'fig show'),\n",
       " Text(0,0,'fig illustrates'),\n",
       " Text(0,0,'wherein said'),\n",
       " Text(0,0,'preferred embodiment'),\n",
       " Text(0,0,'may used'),\n",
       " Text(0,0,'data set'),\n",
       " Text(0,0,'block diagram'),\n",
       " Text(0,0,'user interface'),\n",
       " Text(0,0,'input data'),\n",
       " Text(0,0,'knowledge base'),\n",
       " Text(0,0,'membership function'),\n",
       " Text(0,0,'fig fig'),\n",
       " Text(0,0,'data structure'),\n",
       " Text(0,0,'embodiment fig'),\n",
       " Text(0,0,'according embodiment'),\n",
       " Text(0,0,'training data')]"
      ]
     },
     "execution_count": 48,
     "metadata": {},
     "output_type": "execute_result"
    },
    {
     "data": {
      "image/png": "[encoded data removed]",
      "text/plain": [
       "<Figure size 936x576 with 1 Axes>"
      ]
     },
     "metadata": {},
     "output_type": "display_data"
    }
   ],
   "source": [
    "\n",
    "def get_top_n2_words(corpus, n=None):\n",
    "    vec1 = CountVectorizer(ngram_range=(2,2),  \n",
    "            max_features=2000).fit(corpus)\n",
    "    bag_of_words = vec1.transform(corpus)\n",
    "    sum_words = bag_of_words.sum(axis=0) \n",
    "    words_freq = [(word, sum_words[0, idx]) for word, idx in     \n",
    "                  vec1.vocabulary_.items()]\n",
    "    words_freq =sorted(words_freq, key = lambda x: x[1], \n",
    "                reverse=True)\n",
    "    return words_freq[:n]\n",
    "top2_words = get_top_n2_words(corpus, n=20)\n",
    "top2_df = pd.DataFrame(top2_words)\n",
    "top2_df.columns=[\"Bi-gram\", \"Freq\"]\n",
    "print(top2_df)\n",
    "#Barplot of most freq Bi-grams\n",
    "sns.set(rc={'figure.figsize':(13,8)})\n",
    "h=sns.barplot(x=\"Bi-gram\", y=\"Freq\", data=top2_df)\n",
    "h.set_xticklabels(h.get_xticklabels(), rotation=45)\n"
   ]
  },
  {
   "cell_type": "markdown",
   "metadata": {},
   "source": [
    "# Most frequently occuring Tri-grams"
   ]
  },
  {
   "cell_type": "code",
   "execution_count": 49,
   "metadata": {},
   "outputs": [
    {
     "name": "stdout",
     "output_type": "stream",
     "text": [
      "                           Tri-gram   Freq\n",
      "0                    time time time  74961\n",
      "1                 fig block diagram  23841\n",
      "2            embodiment present fig  15311\n",
      "3                function time time  12752\n",
      "4                time time function  12716\n",
      "5                time function time  11429\n",
      "6           readable storage medium  10879\n",
      "7            according wherein said  10777\n",
      "8                     time time equ  10492\n",
      "9                       sup sup sup   9929\n",
      "10     according embodiment present   9709\n",
      "11  accordance preferred embodiment   9580\n",
      "12                     di elect con   9492\n",
      "13        artificial neural network   8699\n",
      "14                 based least part   8604\n",
      "15    accordance embodiment present   8546\n",
      "16                   fig flow chart   8259\n",
      "17                 fig flow diagram   8172\n",
      "18         graphical user interface   7802\n",
      "19            subjective user state   7568\n"
     ]
    },
    {
     "data": {
      "text/plain": [
       "[Text(0,0,'time time time'),\n",
       " Text(0,0,'fig block diagram'),\n",
       " Text(0,0,'embodiment present fig'),\n",
       " Text(0,0,'function time time'),\n",
       " Text(0,0,'time time function'),\n",
       " Text(0,0,'time function time'),\n",
       " Text(0,0,'readable storage medium'),\n",
       " Text(0,0,'according wherein said'),\n",
       " Text(0,0,'time time equ'),\n",
       " Text(0,0,'sup sup sup'),\n",
       " Text(0,0,'according embodiment present'),\n",
       " Text(0,0,'accordance preferred embodiment'),\n",
       " Text(0,0,'di elect con'),\n",
       " Text(0,0,'artificial neural network'),\n",
       " Text(0,0,'based least part'),\n",
       " Text(0,0,'accordance embodiment present'),\n",
       " Text(0,0,'fig flow chart'),\n",
       " Text(0,0,'fig flow diagram'),\n",
       " Text(0,0,'graphical user interface'),\n",
       " Text(0,0,'subjective user state')]"
      ]
     },
     "execution_count": 49,
     "metadata": {},
     "output_type": "execute_result"
    },
    {
     "data": {
      "image/png": "[encoded data removed]",
      "text/plain": [
       "<Figure size 936x576 with 1 Axes>"
      ]
     },
     "metadata": {},
     "output_type": "display_data"
    }
   ],
   "source": [
    "\n",
    "def get_top_n3_words(corpus, n=None):\n",
    "    vec1 = CountVectorizer(ngram_range=(3,3), \n",
    "           max_features=2000).fit(corpus)\n",
    "    bag_of_words = vec1.transform(corpus)\n",
    "    sum_words = bag_of_words.sum(axis=0) \n",
    "    words_freq = [(word, sum_words[0, idx]) for word, idx in     \n",
    "                  vec1.vocabulary_.items()]\n",
    "    words_freq =sorted(words_freq, key = lambda x: x[1], \n",
    "                reverse=True)\n",
    "    return words_freq[:n]\n",
    "top3_words = get_top_n3_words(corpus, n=20)\n",
    "top3_df = pd.DataFrame(top3_words)\n",
    "top3_df.columns=[\"Tri-gram\", \"Freq\"]\n",
    "print(top3_df)\n",
    "#Barplot of most freq Tri-grams\n",
    "sns.set(rc={'figure.figsize':(13,8)})\n",
    "j=sns.barplot(x=\"Tri-gram\", y=\"Freq\", data=top3_df)\n",
    "j.set_xticklabels(j.get_xticklabels(), rotation=45)"
   ]
  },
  {
   "cell_type": "code",
   "execution_count": 77,
   "metadata": {
    "collapsed": true
   },
   "outputs": [],
   "source": [
    "from sklearn.feature_extraction.text import TfidfTransformer\n",
    "from scipy.sparse import coo_matrix\n",
    "tfidf_transformer=TfidfTransformer(smooth_idf=True,use_idf=True)\n",
    "tfidf_transformer.fit(X)\n",
    "# get feature names\n",
    "feature_names=cv.get_feature_names()\n",
    " \n"
   ]
  },
  {
   "cell_type": "code",
   "execution_count": 88,
   "metadata": {
    "collapsed": true
   },
   "outputs": [],
   "source": [
    "def keyword_predict(patent):\n",
    "    # fetch document for which keywords needs to be extracted\n",
    "    doc=corpus[patent]\n",
    "\n",
    "    #generate tf-idf for the given document\n",
    "    tf_idf_vector=tfidf_transformer.transform(cv.transform([doc]))\n",
    "    #Function for sorting tf_idf in descending order\n",
    "\n",
    "    def sort_coo(coo_matrix):\n",
    "        tuples = zip(coo_matrix.col, coo_matrix.data)\n",
    "        return sorted(tuples, key=lambda x: (x[1], x[0]), reverse=True)\n",
    "\n",
    "    def extract_topn_from_vector(feature_names, sorted_items, topn=10):\n",
    "        \"\"\"get the feature names and tf-idf score of top n items\"\"\"\n",
    "\n",
    "        #use only topn items from vector\n",
    "        sorted_items = sorted_items[:topn]\n",
    "\n",
    "        score_vals = []\n",
    "        feature_vals = []\n",
    "\n",
    "        # word index and corresponding tf-idf score\n",
    "        for idx, score in sorted_items:\n",
    "\n",
    "            #keep track of feature name and its corresponding score\n",
    "            score_vals.append(round(score, 3))\n",
    "            feature_vals.append(feature_names[idx])\n",
    "\n",
    "        #create a tuples of feature,score\n",
    "        #results = zip(feature_vals,score_vals)\n",
    "        results= {}\n",
    "        for idx in range(len(feature_vals)):\n",
    "            results[feature_vals[idx]]=score_vals[idx]\n",
    "\n",
    "        return results\n",
    "    sorted_items=sort_coo(tf_idf_vector.tocoo())\n",
    "    #extract only the top n; n here is 10\n",
    "    keywords=extract_topn_from_vector(feature_names,sorted_items,5)\n",
    "\n",
    "    # now print the results\n",
    "    key = []\n",
    "    for k in keywords:\n",
    "        key.append(k)\n",
    "    return key"
   ]
  },
  {
   "cell_type": "code",
   "execution_count": 90,
   "metadata": {},
   "outputs": [],
   "source": [
    "keywords_all_patents = [keyword_predict(i) for i in range(0, 12969)]"
   ]
  },
  {
   "cell_type": "code",
   "execution_count": null,
   "metadata": {},
   "outputs": [],
   "source": [
    "keywords_all_patents"
   ]
  },
  {
   "cell_type": "code",
   "execution_count": 93,
   "metadata": {},
   "outputs": [],
   "source": [
    "result['keywords'] = keywords_all_patents"
   ]
  },
  {
   "cell_type": "code",
   "execution_count": 99,
   "metadata": {},
   "outputs": [],
   "source": [
    "import pickle\n",
    "\n",
    "with open('all_keywords', 'wb') as f:\n",
    "    pickle.dump([keywords_all_patents], f)\n",
    "\n",
    "\n",
    "#with open('objs.pkl') as f:  # Python 3: open(..., 'rb')\n",
    "    #obj0, obj1, obj2 = pickle.load(f)"
   ]
  },
  {
   "cell_type": "code",
   "execution_count": 13,
   "metadata": {
    "collapsed": true
   },
   "outputs": [],
   "source": []
  },
  {
   "cell_type": "code",
   "execution_count": 14,
   "metadata": {},
   "outputs": [],
   "source": []
  },
  {
   "cell_type": "code",
   "execution_count": null,
   "metadata": {},
   "outputs": [],
   "source": []
  },
  {
   "cell_type": "code",
   "execution_count": null,
   "metadata": {
    "collapsed": true
   },
   "outputs": [],
   "source": []
  },
  {
   "cell_type": "code",
   "execution_count": 15,
   "metadata": {
    "collapsed": true
   },
   "outputs": [],
   "source": []
  },
  {
   "cell_type": "code",
   "execution_count": null,
   "metadata": {},
   "outputs": [],
   "source": [
    "\n"
   ]
  },
  {
   "cell_type": "code",
   "execution_count": null,
   "metadata": {
    "collapsed": true
   },
   "outputs": [],
   "source": []
  },
  {
   "cell_type": "code",
   "execution_count": 17,
   "metadata": {
    "collapsed": true
   },
   "outputs": [],
   "source": []
  },
  {
   "cell_type": "code",
   "execution_count": 18,
   "metadata": {
    "collapsed": true
   },
   "outputs": [],
   "source": []
  },
  {
   "cell_type": "code",
   "execution_count": 19,
   "metadata": {
    "collapsed": true
   },
   "outputs": [],
   "source": []
  },
  {
   "cell_type": "code",
   "execution_count": 21,
   "metadata": {
    "collapsed": true
   },
   "outputs": [],
   "source": []
  },
  {
   "cell_type": "code",
   "execution_count": 24,
   "metadata": {},
   "outputs": [],
   "source": [
    "\n"
   ]
  },
  {
   "cell_type": "code",
   "execution_count": 25,
   "metadata": {
    "collapsed": true
   },
   "outputs": [],
   "source": []
  },
  {
   "cell_type": "markdown",
   "metadata": {
    "collapsed": true
   },
   "source": []
  },
  {
   "cell_type": "markdown",
   "metadata": {
    "collapsed": true
   },
   "source": [
    "# Save"
   ]
  },
  {
   "cell_type": "code",
   "execution_count": 103,
   "metadata": {},
   "outputs": [],
   "source": [
    "result.to_csv('predicted_keywords.csv')\n",
    "    \n",
    "    "
   ]
  },
  {
   "cell_type": "code",
   "execution_count": 104,
   "metadata": {
    "collapsed": true
   },
   "outputs": [],
   "source": [
    "t = pd.read_csv('predicted_keywords.csv')"
   ]
  },
  {
   "cell_type": "code",
   "execution_count": 105,
   "metadata": {},
   "outputs": [
    {
     "data": {
      "text/html": [
       "<div>\n",
       "<style scoped>\n",
       "    .dataframe tbody tr th:only-of-type {\n",
       "        vertical-align: middle;\n",
       "    }\n",
       "\n",
       "    .dataframe tbody tr th {\n",
       "        vertical-align: top;\n",
       "    }\n",
       "\n",
       "    .dataframe thead th {\n",
       "        text-align: right;\n",
       "    }\n",
       "</style>\n",
       "<table border=\"1\" class=\"dataframe\">\n",
       "  <thead>\n",
       "    <tr style=\"text-align: right;\">\n",
       "      <th></th>\n",
       "      <th>Unnamed: 0</th>\n",
       "      <th>patnum</th>\n",
       "      <th>title</th>\n",
       "      <th>abstract</th>\n",
       "      <th>claims</th>\n",
       "      <th>des</th>\n",
       "      <th>keywords</th>\n",
       "    </tr>\n",
       "  </thead>\n",
       "  <tbody>\n",
       "    <tr>\n",
       "      <th>0</th>\n",
       "      <td>0</td>\n",
       "      <td>9043460</td>\n",
       "      <td>Distributed management with embedded agents in...</td>\n",
       "      <td>distributed mobile device management including...</td>\n",
       "      <td>what is claimed is:1.  a method, comprising: r...</td>\n",
       "      <td>background of the invention many mobile devic...</td>\n",
       "      <td>['management', 'agent', 'agent may', 'related ...</td>\n",
       "    </tr>\n",
       "    <tr>\n",
       "      <th>1</th>\n",
       "      <td>1</td>\n",
       "      <td>9043350</td>\n",
       "      <td>Providing topic based search guidance</td>\n",
       "      <td>methods, systems, and computer-readable media ...</td>\n",
       "      <td>the invention claimed is:1.  one or more compu...</td>\n",
       "      <td>background users are able to locate relevant ...</td>\n",
       "      <td>['search', 'topic', 'set search', 'query', 'pr...</td>\n",
       "    </tr>\n",
       "    <tr>\n",
       "      <th>2</th>\n",
       "      <td>2</td>\n",
       "      <td>9043337</td>\n",
       "      <td>Data mining and model generation using an in-d...</td>\n",
       "      <td>embodiments are described for a system and met...</td>\n",
       "      <td>what is claimed is:1.  a method of generating ...</td>\n",
       "      <td>field of the invention one or more implementa...</td>\n",
       "      <td>['analytic', 'data source', 'flow', 'operator'...</td>\n",
       "    </tr>\n",
       "    <tr>\n",
       "      <th>3</th>\n",
       "      <td>3</td>\n",
       "      <td>9043273</td>\n",
       "      <td>Method and apparatus for declarative data ware...</td>\n",
       "      <td>a data warehouse is constructed using the rela...</td>\n",
       "      <td>what is claimed is:1.  a method to create a da...</td>\n",
       "      <td>field of the invention the present invention ...</td>\n",
       "      <td>['data warehouse', 'warehouse', 'dimension', '...</td>\n",
       "    </tr>\n",
       "    <tr>\n",
       "      <th>4</th>\n",
       "      <td>4</td>\n",
       "      <td>9043265</td>\n",
       "      <td>Methods and systems for constructing intellige...</td>\n",
       "      <td>a computer implemented method of constructing ...</td>\n",
       "      <td>i claim:1.  a computer implemented method of c...</td>\n",
       "      <td>background of the invention the present inven...</td>\n",
       "      <td>['glossary', 'symbol', 'formal', 'distinction'...</td>\n",
       "    </tr>\n",
       "    <tr>\n",
       "      <th>5</th>\n",
       "      <td>5</td>\n",
       "      <td>9043264</td>\n",
       "      <td>Scanning data streams in real-time against lar...</td>\n",
       "      <td>embodiments of the disclosure include a method...</td>\n",
       "      <td>the invention claimed is:1.  a method for part...</td>\n",
       "      <td>background the present invention relates to t...</td>\n",
       "      <td>['transition rule', 'rule', 'transition', 'dfa...</td>\n",
       "    </tr>\n",
       "    <tr>\n",
       "      <th>6</th>\n",
       "      <td>6</td>\n",
       "      <td>9043263</td>\n",
       "      <td>Systems and methods for control reliability op...</td>\n",
       "      <td>in one embodiment, a system includes a data co...</td>\n",
       "      <td>the invention claimed is:1.  a turbine system ...</td>\n",
       "      <td>background of the invention the subject matte...</td>\n",
       "      <td>['health', 'advisor', 'assessment', 'controlle...</td>\n",
       "    </tr>\n",
       "    <tr>\n",
       "      <th>7</th>\n",
       "      <td>7</td>\n",
       "      <td>9043262</td>\n",
       "      <td>Information providing apparatus for vehicle, a...</td>\n",
       "      <td>an information providing apparatus for vehicle...</td>\n",
       "      <td>the invention claimed is:1.  an information pr...</td>\n",
       "      <td>technical field the present invention relates...</td>\n",
       "      <td>['power consumption', 'consumption', 'battery'...</td>\n",
       "    </tr>\n",
       "    <tr>\n",
       "      <th>8</th>\n",
       "      <td>8</td>\n",
       "      <td>9043261</td>\n",
       "      <td>Latent variable model estimation apparatus, an...</td>\n",
       "      <td>to provide a latent variable model estimation ...</td>\n",
       "      <td>what is claimed is:1.  a latent variable model...</td>\n",
       "      <td>background of the invention 1.  field of the ...</td>\n",
       "      <td>['latent', 'latent variable', 'probability', '...</td>\n",
       "    </tr>\n",
       "    <tr>\n",
       "      <th>9</th>\n",
       "      <td>9</td>\n",
       "      <td>9043260</td>\n",
       "      <td>Method and apparatus for contextual content su...</td>\n",
       "      <td>an approach is provided for contextual content...</td>\n",
       "      <td>what is claimed is:1.  a method comprising fac...</td>\n",
       "      <td>background wireless (e.g., cellular) service ...</td>\n",
       "      <td>['content item', 'content', 'contextual', 'rec...</td>\n",
       "    </tr>\n",
       "    <tr>\n",
       "      <th>10</th>\n",
       "      <td>10</td>\n",
       "      <td>9043259</td>\n",
       "      <td>Systems and methods for recommending media con...</td>\n",
       "      <td>systems and methods for recommending media con...</td>\n",
       "      <td>what is claimed is:1.  a method, comprising: a...</td>\n",
       "      <td>all above-identified patents and patent appli...</td>\n",
       "      <td>['medium item', 'click', 'item', 'particular u...</td>\n",
       "    </tr>\n",
       "    <tr>\n",
       "      <th>11</th>\n",
       "      <td>11</td>\n",
       "      <td>9043258</td>\n",
       "      <td>Determining a replacement document owner</td>\n",
       "      <td>provided are a method, computer program produc...</td>\n",
       "      <td>the invention claimed is:1.  a method for gene...</td>\n",
       "      <td>background an enterprise content management s...</td>\n",
       "      <td>['owner', 'ownership', 'content', 'processing ...</td>\n",
       "    </tr>\n",
       "    <tr>\n",
       "      <th>12</th>\n",
       "      <td>12</td>\n",
       "      <td>9043257</td>\n",
       "      <td>Observation-based user profiling and profile m...</td>\n",
       "      <td>observation-based user profiling and profile m...</td>\n",
       "      <td>the invention claimed is:1.  an application se...</td>\n",
       "      <td>field of the invention the invention relates ...</td>\n",
       "      <td>['profile', 'profiling', 'behavior', 'social n...</td>\n",
       "    </tr>\n",
       "    <tr>\n",
       "      <th>13</th>\n",
       "      <td>13</td>\n",
       "      <td>9043256</td>\n",
       "      <td>Hypothesis derived from relationship graph</td>\n",
       "      <td>a method and apparatus for data processing. th...</td>\n",
       "      <td>the invention claimed is:1.  a method for data...</td>\n",
       "      <td>cross-reference to related application this a...</td>\n",
       "      <td>['attribute', 'correlation', 'plurality attrib...</td>\n",
       "    </tr>\n",
       "    <tr>\n",
       "      <th>14</th>\n",
       "      <td>14</td>\n",
       "      <td>9043255</td>\n",
       "      <td>Optimally configuring an information landscape</td>\n",
       "      <td>according to an embodiment of the present inve...</td>\n",
       "      <td>what is claimed is:1.  a system for optimizing...</td>\n",
       "      <td>background 1.  technical field present invent...</td>\n",
       "      <td>['landscape', 'processing environment', 'netwo...</td>\n",
       "    </tr>\n",
       "    <tr>\n",
       "      <th>15</th>\n",
       "      <td>15</td>\n",
       "      <td>9043254</td>\n",
       "      <td>Method for computer-aided closed-loop and/or o...</td>\n",
       "      <td>a method for computer-aided closed and/or open...</td>\n",
       "      <td>the invention claimed is:1.  a method for comp...</td>\n",
       "      <td>cross reference to related applications this ...</td>\n",
       "      <td>['technical', 'based model', 'confidence score...</td>\n",
       "    </tr>\n",
       "    <tr>\n",
       "      <th>16</th>\n",
       "      <td>16</td>\n",
       "      <td>9043253</td>\n",
       "      <td>Optimization to identify nearest objects in a ...</td>\n",
       "      <td>in one embodiment, a plurality of objects asso...</td>\n",
       "      <td>what is claimed is:1.  an article of manufactu...</td>\n",
       "      <td>field embodiments generally relate to data an...</td>\n",
       "      <td>['object', 'nearest', 'adjacent', 'key', 'dist...</td>\n",
       "    </tr>\n",
       "    <tr>\n",
       "      <th>17</th>\n",
       "      <td>17</td>\n",
       "      <td>9043252</td>\n",
       "      <td>Systems and methods for analysis of network eq...</td>\n",
       "      <td>systems and methods are disclosed that may be ...</td>\n",
       "      <td>what is claimed is:1.  an information handling...</td>\n",
       "      <td>field of the invention this invention relates...</td>\n",
       "      <td>['ontology', 'knowledge model', 'network devic...</td>\n",
       "    </tr>\n",
       "    <tr>\n",
       "      <th>18</th>\n",
       "      <td>18</td>\n",
       "      <td>9043251</td>\n",
       "      <td>Apparatus and method for recognizing represent...</td>\n",
       "      <td>an apparatus for recognizing a representative ...</td>\n",
       "      <td>what is claimed is:1.  an apparatus for recogn...</td>\n",
       "      <td>cross-reference to related applications this ...</td>\n",
       "      <td>['unit data', 'behavior', 'unit', 'representat...</td>\n",
       "    </tr>\n",
       "    <tr>\n",
       "      <th>19</th>\n",
       "      <td>19</td>\n",
       "      <td>9043250</td>\n",
       "      <td>Privacy-preserving aggregated data mining</td>\n",
       "      <td>an apparatus, system and method are introduced...</td>\n",
       "      <td>what is claimed is:1.  a method of preserving ...</td>\n",
       "      <td>technical field the present invention is dire...</td>\n",
       "      <td>['privacy', 'matrix', 'dataset', 'circumflex',...</td>\n",
       "    </tr>\n",
       "    <tr>\n",
       "      <th>20</th>\n",
       "      <td>20</td>\n",
       "      <td>9043249</td>\n",
       "      <td>Automatic chemical assay classification using ...</td>\n",
       "      <td>a computer implemented method for automatic ch...</td>\n",
       "      <td>what is claimed is:1.  a computer implemented ...</td>\n",
       "      <td>field and background of the invention the pre...</td>\n",
       "      <td>['assay', 'reaction', 'chemical', 'point', 'sp...</td>\n",
       "    </tr>\n",
       "    <tr>\n",
       "      <th>21</th>\n",
       "      <td>21</td>\n",
       "      <td>9043248</td>\n",
       "      <td>Learning rewrite rules for search database sys...</td>\n",
       "      <td>methods and arrangements for conducting a sear...</td>\n",
       "      <td>what is claimed is:1.  an apparatus comprising...</td>\n",
       "      <td>background the phenomenal success of internet...</td>\n",
       "      <td>['rewrite', 'query', 'readable program code', ...</td>\n",
       "    </tr>\n",
       "    <tr>\n",
       "      <th>22</th>\n",
       "      <td>22</td>\n",
       "      <td>9043247</td>\n",
       "      <td>Systems and methods for classifying documents ...</td>\n",
       "      <td>a computer-implemented method for classifying ...</td>\n",
       "      <td>what is claimed is:1.  a computer-implemented ...</td>\n",
       "      <td>background in the electronic information age,...</td>\n",
       "      <td>['training document', 'prospective', 'document...</td>\n",
       "    </tr>\n",
       "    <tr>\n",
       "      <th>23</th>\n",
       "      <td>23</td>\n",
       "      <td>9041566</td>\n",
       "      <td>Lossless compression of the enumeration space ...</td>\n",
       "      <td>various embodiments provide lossless compressi...</td>\n",
       "      <td>what is claimed is:1.  a computer implemented ...</td>\n",
       "      <td>background the present invention generally re...</td>\n",
       "      <td>['crossing', 'genetic', 'template', 'binary tr...</td>\n",
       "    </tr>\n",
       "    <tr>\n",
       "      <th>24</th>\n",
       "      <td>24</td>\n",
       "      <td>9037580</td>\n",
       "      <td>Providing answers to questions using logical s...</td>\n",
       "      <td>a method, system and computer program product ...</td>\n",
       "      <td>what is claimed is:1.  a method of generating ...</td>\n",
       "      <td>background 1.  field of the invention this in...</td>\n",
       "      <td>['candidate answer', 'answer', 'candidate', 'q...</td>\n",
       "    </tr>\n",
       "    <tr>\n",
       "      <th>25</th>\n",
       "      <td>25</td>\n",
       "      <td>9037569</td>\n",
       "      <td>Identifying particular images from a collection</td>\n",
       "      <td>a method of identifying one or more particular...</td>\n",
       "      <td>the invention claimed is:1.  a method of ident...</td>\n",
       "      <td>field of the invention the present invention ...</td>\n",
       "      <td>['image', 'keywords', 'descriptor', 'search', ...</td>\n",
       "    </tr>\n",
       "    <tr>\n",
       "      <th>26</th>\n",
       "      <td>26</td>\n",
       "      <td>9037531</td>\n",
       "      <td>Inferring user preferences from an internet ba...</td>\n",
       "      <td>in embodiments of the present invention improv...</td>\n",
       "      <td>what is claimed is:1.  a computer-implemented ...</td>\n",
       "      <td>background 1.  field the present invention is...</td>\n",
       "      <td>['machine learning facility', 'learning facili...</td>\n",
       "    </tr>\n",
       "    <tr>\n",
       "      <th>27</th>\n",
       "      <td>27</td>\n",
       "      <td>9037530</td>\n",
       "      <td>Wearable electromyography-based human-computer...</td>\n",
       "      <td>a \"wearable electromyography-based controller\"...</td>\n",
       "      <td>what is claimed is:1.  a human-computer interf...</td>\n",
       "      <td>background 1.  technical field a \"wearable el...</td>\n",
       "      <td>['wearable', 'sensor node', 'sensor', 'muscle'...</td>\n",
       "    </tr>\n",
       "    <tr>\n",
       "      <th>28</th>\n",
       "      <td>28</td>\n",
       "      <td>9037529</td>\n",
       "      <td>Method for generating visual mapping of knowle...</td>\n",
       "      <td>a method for performing relational analysis of...</td>\n",
       "      <td>the invention claimed is:1.  a method for rela...</td>\n",
       "      <td>technical field this invention generally rela...</td>\n",
       "      <td>['topic', 'metadata', 'map', 'knowledge', 'sub...</td>\n",
       "    </tr>\n",
       "    <tr>\n",
       "      <th>29</th>\n",
       "      <td>29</td>\n",
       "      <td>9037528</td>\n",
       "      <td>Using dotplots for comparing and finding patte...</td>\n",
       "      <td>embodiments of the invention provide systems a...</td>\n",
       "      <td>what is claimed is:1.  a method for identifyin...</td>\n",
       "      <td>background embodiments of the present inventi...</td>\n",
       "      <td>['token', 'sequence', 'point', 'linear regress...</td>\n",
       "    </tr>\n",
       "    <tr>\n",
       "      <th>...</th>\n",
       "      <td>...</td>\n",
       "      <td>...</td>\n",
       "      <td>...</td>\n",
       "      <td>...</td>\n",
       "      <td>...</td>\n",
       "      <td>...</td>\n",
       "      <td>...</td>\n",
       "    </tr>\n",
       "    <tr>\n",
       "      <th>12939</th>\n",
       "      <td>12939</td>\n",
       "      <td>4599693</td>\n",
       "      <td>Probabilistic learning system</td>\n",
       "      <td>a probabilistic learning system of the type th...</td>\n",
       "      <td>what is claimed is:1.  a probabilistic learnin...</td>\n",
       "      <td>background of the\\ninvention 1.  field of the...</td>\n",
       "      <td>['cylinder', 'combustion', 'pressure', 'igniti...</td>\n",
       "    </tr>\n",
       "    <tr>\n",
       "      <th>12940</th>\n",
       "      <td>12940</td>\n",
       "      <td>4599692</td>\n",
       "      <td>Probabilistic learning element employing conte...</td>\n",
       "      <td>a probabilistic learning element for performin...</td>\n",
       "      <td>what is claimed is:1.  a probabilistic learnin...</td>\n",
       "      <td>background of the invention 1.  technical fie...</td>\n",
       "      <td>['term memory', 'said', 'cell', 'memory mean',...</td>\n",
       "    </tr>\n",
       "    <tr>\n",
       "      <th>12941</th>\n",
       "      <td>12941</td>\n",
       "      <td>4595982</td>\n",
       "      <td>Expert system and method for making decisions ...</td>\n",
       "      <td>this invention relates to an expert system and...</td>\n",
       "      <td>i claim:1.  a method for making decisions with...</td>\n",
       "      <td>technical field the invention relates to anal...</td>\n",
       "      <td>['waveform', 'motor', 'electrical signal', 'si...</td>\n",
       "    </tr>\n",
       "    <tr>\n",
       "      <th>12942</th>\n",
       "      <td>12942</td>\n",
       "      <td>4593367</td>\n",
       "      <td>Probabilistic learning element</td>\n",
       "      <td>a probabilistic learning element particularly ...</td>\n",
       "      <td>what is claimed is:1.  a probabilistic learnin...</td>\n",
       "      <td>background of the invention 1.  field of the ...</td>\n",
       "      <td>['video image', 'neural network circuit', 'vid...</td>\n",
       "    </tr>\n",
       "    <tr>\n",
       "      <th>12943</th>\n",
       "      <td>12943</td>\n",
       "      <td>4591983</td>\n",
       "      <td>Hierarchical knowledge system</td>\n",
       "      <td>a knowledge system has a hierarchical knowledg...</td>\n",
       "      <td>what is claimed is:1.  a knowledge system comp...</td>\n",
       "      <td>background of the invention 1.  field of the ...</td>\n",
       "      <td>['neural net', 'assembly', 'said', 'net', 'neu...</td>\n",
       "    </tr>\n",
       "    <tr>\n",
       "      <th>12944</th>\n",
       "      <td>12944</td>\n",
       "      <td>4569033</td>\n",
       "      <td>Optical matrix-matrix multiplier based on oute...</td>\n",
       "      <td>an optical matrix multiplier using two linear ...</td>\n",
       "      <td>what is claimed as new and desired to be secur...</td>\n",
       "      <td>field of the invention this invention is dire...</td>\n",
       "      <td>['controller', 'setpoint', 'oxygen', 'measurem...</td>\n",
       "    </tr>\n",
       "    <tr>\n",
       "      <th>12945</th>\n",
       "      <td>12945</td>\n",
       "      <td>4563746</td>\n",
       "      <td>Method of operating power plants</td>\n",
       "      <td>this invention refers to a plant operating met...</td>\n",
       "      <td>what is claimed is:1.  a plant operating metho...</td>\n",
       "      <td>field of the invention the present invention ...</td>\n",
       "      <td>['alarm', 'image', 'plant', 'pixel', 'security']</td>\n",
       "    </tr>\n",
       "    <tr>\n",
       "      <th>12946</th>\n",
       "      <td>12946</td>\n",
       "      <td>4554625</td>\n",
       "      <td>Method for generating an optimized nested arra...</td>\n",
       "      <td>the overall arrangement of a number of non-ove...</td>\n",
       "      <td>what is claimed is:1.  a method for allocating...</td>\n",
       "      <td>background of the invention 1.  field of the ...</td>\n",
       "      <td>['failure', 'error', 'theory', 'module', 'anal...</td>\n",
       "    </tr>\n",
       "    <tr>\n",
       "      <th>12947</th>\n",
       "      <td>12947</td>\n",
       "      <td>4525775</td>\n",
       "      <td>Adaptive control system</td>\n",
       "      <td>an adaptive control system incorporating self-...</td>\n",
       "      <td>what is claimed is:1.  an adaptive control sys...</td>\n",
       "      <td>background of\\nthe invention 1.  field of the...</td>\n",
       "      <td>['gear', 'shifting', 'pattern', 'said', 'trans...</td>\n",
       "    </tr>\n",
       "    <tr>\n",
       "      <th>12948</th>\n",
       "      <td>12948</td>\n",
       "      <td>4518866</td>\n",
       "      <td>Method of and circuit for simulating neurons</td>\n",
       "      <td>circuitry for and a method of simulating neuro...</td>\n",
       "      <td>i claim:1.  a method for simulating the operat...</td>\n",
       "      <td>background of the invention the present inven...</td>\n",
       "      <td>['processing unit', 'assumption', 'unit', 'box...</td>\n",
       "    </tr>\n",
       "    <tr>\n",
       "      <th>12949</th>\n",
       "      <td>12949</td>\n",
       "      <td>4517468</td>\n",
       "      <td>Diagnostic system and method</td>\n",
       "      <td>a diagnostic system wherein a central diagnost...</td>\n",
       "      <td>we claim:1.  a diagnostic system for monitorin...</td>\n",
       "      <td>background of the invention 1.  field of the ...</td>\n",
       "      <td>['rho', 'portion', 'theta', 'parameter', 'pict...</td>\n",
       "    </tr>\n",
       "    <tr>\n",
       "      <th>12950</th>\n",
       "      <td>12950</td>\n",
       "      <td>4504970</td>\n",
       "      <td>Training controller for pattern processing system</td>\n",
       "      <td>a pattern processing system associates image i...</td>\n",
       "      <td>what is claimed is:1.  a pattern processing sy...</td>\n",
       "      <td>field of the invention the present invention ...</td>\n",
       "      <td>['layer', 'address', 'neuron', 'layer network'...</td>\n",
       "    </tr>\n",
       "    <tr>\n",
       "      <th>12951</th>\n",
       "      <td>12951</td>\n",
       "      <td>4479241</td>\n",
       "      <td>Self-organizing circuits for automatic pattern...</td>\n",
       "      <td>self-organizing circuits to receive input sign...</td>\n",
       "      <td>what is claimed is:1.  a system that comprises...</td>\n",
       "      <td>background of the invention the present inven...</td>\n",
       "      <td>['learning data', 'learning', 'associative', '...</td>\n",
       "    </tr>\n",
       "    <tr>\n",
       "      <th>12952</th>\n",
       "      <td>12952</td>\n",
       "      <td>4472770</td>\n",
       "      <td>Self-optimizing method and machine</td>\n",
       "      <td>the invention discloses method for self-optimi...</td>\n",
       "      <td>i claim:1.  a method for self-optimizing, in r...</td>\n",
       "      <td>field of the invention the present invention ...</td>\n",
       "      <td>['bit', 'exponent', 'amplifier', 'electrode', ...</td>\n",
       "    </tr>\n",
       "    <tr>\n",
       "      <th>12953</th>\n",
       "      <td>12953</td>\n",
       "      <td>4465077</td>\n",
       "      <td>Apparatus and method of determining fertility ...</td>\n",
       "      <td>a fertility computer is disclosed having the a...</td>\n",
       "      <td>i claim:1.  a fertility computer comprising:(a...</td>\n",
       "      <td>background of the invention 1.  field of the ...</td>\n",
       "      <td>['discharge', 'work', 'supply', 'loop', 'comma...</td>\n",
       "    </tr>\n",
       "    <tr>\n",
       "      <th>12954</th>\n",
       "      <td>12954</td>\n",
       "      <td>4459259</td>\n",
       "      <td>Digital computer operation of a nuclear reactor</td>\n",
       "      <td>a method is described for the safe operation o...</td>\n",
       "      <td>i claim:1.  a method of operating a nuclear re...</td>\n",
       "      <td>background of the invention 1.  field of the ...</td>\n",
       "      <td>['variable', 'software', 'name', 'retrieval', ...</td>\n",
       "    </tr>\n",
       "    <tr>\n",
       "      <th>12955</th>\n",
       "      <td>12955</td>\n",
       "      <td>4449190</td>\n",
       "      <td>Silence editing speech processor</td>\n",
       "      <td>in an adpcm system, improved detection of sile...</td>\n",
       "      <td>what is claimed is:1.  a speech processing sys...</td>\n",
       "      <td>background of the invention 1.  field of the ...</td>\n",
       "      <td>['membership function', 'membership', 'lens', ...</td>\n",
       "    </tr>\n",
       "    <tr>\n",
       "      <th>12956</th>\n",
       "      <td>12956</td>\n",
       "      <td>4447111</td>\n",
       "      <td>Achromatic holographic element</td>\n",
       "      <td>a process for producing a holographic optical ...</td>\n",
       "      <td>having thus described my invention, what i cla...</td>\n",
       "      <td>background of the invention 1.  field of the ...</td>\n",
       "      <td>['car', 'floor', 'call', 'empty', 'predicted']</td>\n",
       "    </tr>\n",
       "    <tr>\n",
       "      <th>12957</th>\n",
       "      <td>12957</td>\n",
       "      <td>4326259</td>\n",
       "      <td>Self organizing general pattern class separato...</td>\n",
       "      <td>a system is provided for the separation into a...</td>\n",
       "      <td>what is claimed is:1.  an information processi...</td>\n",
       "      <td>background of the invention 1.  field of the ...</td>\n",
       "      <td>['signal', 'neuron', 'synapse', 'signal line',...</td>\n",
       "    </tr>\n",
       "    <tr>\n",
       "      <th>12958</th>\n",
       "      <td>12958</td>\n",
       "      <td>4254474</td>\n",
       "      <td>Information processing system using threshold ...</td>\n",
       "      <td>an adaptive information processing system incl...</td>\n",
       "      <td>we claim:1.  an information processing system ...</td>\n",
       "      <td>background and summary of the invention the p...</td>\n",
       "      <td>['grammar', 'lexicon', 'edge', 'noun', 'senten...</td>\n",
       "    </tr>\n",
       "    <tr>\n",
       "      <th>12959</th>\n",
       "      <td>12959</td>\n",
       "      <td>4213183</td>\n",
       "      <td>System for nondestructive evaluation of materi...</td>\n",
       "      <td>the disclosure relates to a system for nondest...</td>\n",
       "      <td>we claim:1.  a method of nondestructive testin...</td>\n",
       "      <td>background of the invention 1.  field of the ...</td>\n",
       "      <td>['focusing', 'signal', 'image signal', 'image'...</td>\n",
       "    </tr>\n",
       "    <tr>\n",
       "      <th>12960</th>\n",
       "      <td>12960</td>\n",
       "      <td>4207670</td>\n",
       "      <td>Method for making a solid state neuron</td>\n",
       "      <td>temperature gradient zone melting is utilized ...</td>\n",
       "      <td>we claim as our invention:1.  a method for mak...</td>\n",
       "      <td>background of the invention 1.  field of the ...</td>\n",
       "      <td>['channel mo', 'transistor', 'mo transistor', ...</td>\n",
       "    </tr>\n",
       "    <tr>\n",
       "      <th>12961</th>\n",
       "      <td>12961</td>\n",
       "      <td>4206979</td>\n",
       "      <td>Electro-optic modulator</td>\n",
       "      <td>a multi-heterojunction of one type of photocon...</td>\n",
       "      <td>what is claimed is:1.  in a transmissive elect...</td>\n",
       "      <td>technical field this invention relates genera...</td>\n",
       "      <td>['radio', 'processing unit', 'environmental', ...</td>\n",
       "    </tr>\n",
       "    <tr>\n",
       "      <th>12962</th>\n",
       "      <td>12962</td>\n",
       "      <td>4204253</td>\n",
       "      <td>Device for generating and correcting a user pr...</td>\n",
       "      <td>the invention relates to a programming panel w...</td>\n",
       "      <td>what is claimed is:1.  a programming panel dev...</td>\n",
       "      <td>background of the invention 1.  field of the ...</td>\n",
       "      <td>['text', 'evidence', 'rulebase', 'recommended'...</td>\n",
       "    </tr>\n",
       "    <tr>\n",
       "      <th>12963</th>\n",
       "      <td>12963</td>\n",
       "      <td>4163983</td>\n",
       "      <td>Solid state neuron</td>\n",
       "      <td>a semiconductor neuron comprises a tunnel diod...</td>\n",
       "      <td>we claim as our invention:1.  a semiconductor ...</td>\n",
       "      <td>background of the invention 1.  field of the ...</td>\n",
       "      <td>['spatial light', 'modulator', 'tube', 'spatia...</td>\n",
       "    </tr>\n",
       "    <tr>\n",
       "      <th>12964</th>\n",
       "      <td>12964</td>\n",
       "      <td>4044243</td>\n",
       "      <td>Information processing system</td>\n",
       "      <td>a digital adaptive information processing syst...</td>\n",
       "      <td>we claim:1.  a digital, adaptive information p...</td>\n",
       "      <td>background of the invention the present inven...</td>\n",
       "      <td>['knowledge data', 'knowledge', 'impact', 'sto...</td>\n",
       "    </tr>\n",
       "    <tr>\n",
       "      <th>12965</th>\n",
       "      <td>12965</td>\n",
       "      <td>3993400</td>\n",
       "      <td>Method and apparatus for forming erasable, rea...</td>\n",
       "      <td>a method and apparatus for forming optical cir...</td>\n",
       "      <td>what is claimed is:1.  a method of providing r...</td>\n",
       "      <td>background of the invention 1.  field of the ...</td>\n",
       "      <td>['gear', 'throttle', 'throttle opening', 'vehi...</td>\n",
       "    </tr>\n",
       "    <tr>\n",
       "      <th>12966</th>\n",
       "      <td>12966</td>\n",
       "      <td>3979602</td>\n",
       "      <td>Resistive neuristor junctions</td>\n",
       "      <td>a neuristor r-junction is provided by coupling...</td>\n",
       "      <td>what is claimed as new and desired to secure b...</td>\n",
       "      <td>background of the invention 1.  field of the ...</td>\n",
       "      <td>['gear', 'throttle', 'throttle opening', 'vehi...</td>\n",
       "    </tr>\n",
       "    <tr>\n",
       "      <th>12967</th>\n",
       "      <td>12967</td>\n",
       "      <td>3950733</td>\n",
       "      <td>Information processing system</td>\n",
       "      <td>an adaptive information processing system incl...</td>\n",
       "      <td>we claim:1.  an information processing module ...</td>\n",
       "      <td>background of the invention 1.  field the inv...</td>\n",
       "      <td>['defined wherein', 'transfer function', 'info...</td>\n",
       "    </tr>\n",
       "    <tr>\n",
       "      <th>12968</th>\n",
       "      <td>12968</td>\n",
       "      <td>3934231</td>\n",
       "      <td>Adaptive boolean logic element</td>\n",
       "      <td>a digital logic circuit, hereinafter referred ...</td>\n",
       "      <td>i claim:1.  a digital logic circuit, hereinaft...</td>\n",
       "      <td>background of the invention the present inven...</td>\n",
       "      <td>['explosive', 'neutron', 'detector', 'ray', 'g...</td>\n",
       "    </tr>\n",
       "  </tbody>\n",
       "</table>\n",
       "<p>12969 rows × 7 columns</p>\n",
       "</div>"
      ],
      "text/plain": [
       "       Unnamed: 0   patnum                                              title  \\\n",
       "0               0  9043460  Distributed management with embedded agents in...   \n",
       "1               1  9043350              Providing topic based search guidance   \n",
       "2               2  9043337  Data mining and model generation using an in-d...   \n",
       "3               3  9043273  Method and apparatus for declarative data ware...   \n",
       "4               4  9043265  Methods and systems for constructing intellige...   \n",
       "5               5  9043264  Scanning data streams in real-time against lar...   \n",
       "6               6  9043263  Systems and methods for control reliability op...   \n",
       "7               7  9043262  Information providing apparatus for vehicle, a...   \n",
       "8               8  9043261  Latent variable model estimation apparatus, an...   \n",
       "9               9  9043260  Method and apparatus for contextual content su...   \n",
       "10             10  9043259  Systems and methods for recommending media con...   \n",
       "11             11  9043258           Determining a replacement document owner   \n",
       "12             12  9043257  Observation-based user profiling and profile m...   \n",
       "13             13  9043256         Hypothesis derived from relationship graph   \n",
       "14             14  9043255     Optimally configuring an information landscape   \n",
       "15             15  9043254  Method for computer-aided closed-loop and/or o...   \n",
       "16             16  9043253  Optimization to identify nearest objects in a ...   \n",
       "17             17  9043252  Systems and methods for analysis of network eq...   \n",
       "18             18  9043251  Apparatus and method for recognizing represent...   \n",
       "19             19  9043250          Privacy-preserving aggregated data mining   \n",
       "20             20  9043249  Automatic chemical assay classification using ...   \n",
       "21             21  9043248  Learning rewrite rules for search database sys...   \n",
       "22             22  9043247  Systems and methods for classifying documents ...   \n",
       "23             23  9041566  Lossless compression of the enumeration space ...   \n",
       "24             24  9037580  Providing answers to questions using logical s...   \n",
       "25             25  9037569    Identifying particular images from a collection   \n",
       "26             26  9037531  Inferring user preferences from an internet ba...   \n",
       "27             27  9037530  Wearable electromyography-based human-computer...   \n",
       "28             28  9037529  Method for generating visual mapping of knowle...   \n",
       "29             29  9037528  Using dotplots for comparing and finding patte...   \n",
       "...           ...      ...                                                ...   \n",
       "12939       12939  4599693                      Probabilistic learning system   \n",
       "12940       12940  4599692  Probabilistic learning element employing conte...   \n",
       "12941       12941  4595982  Expert system and method for making decisions ...   \n",
       "12942       12942  4593367                     Probabilistic learning element   \n",
       "12943       12943  4591983                      Hierarchical knowledge system   \n",
       "12944       12944  4569033  Optical matrix-matrix multiplier based on oute...   \n",
       "12945       12945  4563746                   Method of operating power plants   \n",
       "12946       12946  4554625  Method for generating an optimized nested arra...   \n",
       "12947       12947  4525775                            Adaptive control system   \n",
       "12948       12948  4518866       Method of and circuit for simulating neurons   \n",
       "12949       12949  4517468                       Diagnostic system and method   \n",
       "12950       12950  4504970  Training controller for pattern processing system   \n",
       "12951       12951  4479241  Self-organizing circuits for automatic pattern...   \n",
       "12952       12952  4472770                 Self-optimizing method and machine   \n",
       "12953       12953  4465077  Apparatus and method of determining fertility ...   \n",
       "12954       12954  4459259    Digital computer operation of a nuclear reactor   \n",
       "12955       12955  4449190                   Silence editing speech processor   \n",
       "12956       12956  4447111                     Achromatic holographic element   \n",
       "12957       12957  4326259  Self organizing general pattern class separato...   \n",
       "12958       12958  4254474  Information processing system using threshold ...   \n",
       "12959       12959  4213183  System for nondestructive evaluation of materi...   \n",
       "12960       12960  4207670             Method for making a solid state neuron   \n",
       "12961       12961  4206979                            Electro-optic modulator   \n",
       "12962       12962  4204253  Device for generating and correcting a user pr...   \n",
       "12963       12963  4163983                                 Solid state neuron   \n",
       "12964       12964  4044243                      Information processing system   \n",
       "12965       12965  3993400  Method and apparatus for forming erasable, rea...   \n",
       "12966       12966  3979602                      Resistive neuristor junctions   \n",
       "12967       12967  3950733                      Information processing system   \n",
       "12968       12968  3934231                     Adaptive boolean logic element   \n",
       "\n",
       "                                                abstract  \\\n",
       "0      distributed mobile device management including...   \n",
       "1      methods, systems, and computer-readable media ...   \n",
       "2      embodiments are described for a system and met...   \n",
       "3      a data warehouse is constructed using the rela...   \n",
       "4      a computer implemented method of constructing ...   \n",
       "5      embodiments of the disclosure include a method...   \n",
       "6      in one embodiment, a system includes a data co...   \n",
       "7      an information providing apparatus for vehicle...   \n",
       "8      to provide a latent variable model estimation ...   \n",
       "9      an approach is provided for contextual content...   \n",
       "10     systems and methods for recommending media con...   \n",
       "11     provided are a method, computer program produc...   \n",
       "12     observation-based user profiling and profile m...   \n",
       "13     a method and apparatus for data processing. th...   \n",
       "14     according to an embodiment of the present inve...   \n",
       "15     a method for computer-aided closed and/or open...   \n",
       "16     in one embodiment, a plurality of objects asso...   \n",
       "17     systems and methods are disclosed that may be ...   \n",
       "18     an apparatus for recognizing a representative ...   \n",
       "19     an apparatus, system and method are introduced...   \n",
       "20     a computer implemented method for automatic ch...   \n",
       "21     methods and arrangements for conducting a sear...   \n",
       "22     a computer-implemented method for classifying ...   \n",
       "23     various embodiments provide lossless compressi...   \n",
       "24     a method, system and computer program product ...   \n",
       "25     a method of identifying one or more particular...   \n",
       "26     in embodiments of the present invention improv...   \n",
       "27     a \"wearable electromyography-based controller\"...   \n",
       "28     a method for performing relational analysis of...   \n",
       "29     embodiments of the invention provide systems a...   \n",
       "...                                                  ...   \n",
       "12939  a probabilistic learning system of the type th...   \n",
       "12940  a probabilistic learning element for performin...   \n",
       "12941  this invention relates to an expert system and...   \n",
       "12942  a probabilistic learning element particularly ...   \n",
       "12943  a knowledge system has a hierarchical knowledg...   \n",
       "12944  an optical matrix multiplier using two linear ...   \n",
       "12945  this invention refers to a plant operating met...   \n",
       "12946  the overall arrangement of a number of non-ove...   \n",
       "12947  an adaptive control system incorporating self-...   \n",
       "12948  circuitry for and a method of simulating neuro...   \n",
       "12949  a diagnostic system wherein a central diagnost...   \n",
       "12950  a pattern processing system associates image i...   \n",
       "12951  self-organizing circuits to receive input sign...   \n",
       "12952  the invention discloses method for self-optimi...   \n",
       "12953  a fertility computer is disclosed having the a...   \n",
       "12954  a method is described for the safe operation o...   \n",
       "12955  in an adpcm system, improved detection of sile...   \n",
       "12956  a process for producing a holographic optical ...   \n",
       "12957  a system is provided for the separation into a...   \n",
       "12958  an adaptive information processing system incl...   \n",
       "12959  the disclosure relates to a system for nondest...   \n",
       "12960  temperature gradient zone melting is utilized ...   \n",
       "12961  a multi-heterojunction of one type of photocon...   \n",
       "12962  the invention relates to a programming panel w...   \n",
       "12963  a semiconductor neuron comprises a tunnel diod...   \n",
       "12964  a digital adaptive information processing syst...   \n",
       "12965  a method and apparatus for forming optical cir...   \n",
       "12966  a neuristor r-junction is provided by coupling...   \n",
       "12967  an adaptive information processing system incl...   \n",
       "12968  a digital logic circuit, hereinafter referred ...   \n",
       "\n",
       "                                                  claims  \\\n",
       "0      what is claimed is:1.  a method, comprising: r...   \n",
       "1      the invention claimed is:1.  one or more compu...   \n",
       "2      what is claimed is:1.  a method of generating ...   \n",
       "3      what is claimed is:1.  a method to create a da...   \n",
       "4      i claim:1.  a computer implemented method of c...   \n",
       "5      the invention claimed is:1.  a method for part...   \n",
       "6      the invention claimed is:1.  a turbine system ...   \n",
       "7      the invention claimed is:1.  an information pr...   \n",
       "8      what is claimed is:1.  a latent variable model...   \n",
       "9      what is claimed is:1.  a method comprising fac...   \n",
       "10     what is claimed is:1.  a method, comprising: a...   \n",
       "11     the invention claimed is:1.  a method for gene...   \n",
       "12     the invention claimed is:1.  an application se...   \n",
       "13     the invention claimed is:1.  a method for data...   \n",
       "14     what is claimed is:1.  a system for optimizing...   \n",
       "15     the invention claimed is:1.  a method for comp...   \n",
       "16     what is claimed is:1.  an article of manufactu...   \n",
       "17     what is claimed is:1.  an information handling...   \n",
       "18     what is claimed is:1.  an apparatus for recogn...   \n",
       "19     what is claimed is:1.  a method of preserving ...   \n",
       "20     what is claimed is:1.  a computer implemented ...   \n",
       "21     what is claimed is:1.  an apparatus comprising...   \n",
       "22     what is claimed is:1.  a computer-implemented ...   \n",
       "23     what is claimed is:1.  a computer implemented ...   \n",
       "24     what is claimed is:1.  a method of generating ...   \n",
       "25     the invention claimed is:1.  a method of ident...   \n",
       "26     what is claimed is:1.  a computer-implemented ...   \n",
       "27     what is claimed is:1.  a human-computer interf...   \n",
       "28     the invention claimed is:1.  a method for rela...   \n",
       "29     what is claimed is:1.  a method for identifyin...   \n",
       "...                                                  ...   \n",
       "12939  what is claimed is:1.  a probabilistic learnin...   \n",
       "12940  what is claimed is:1.  a probabilistic learnin...   \n",
       "12941  i claim:1.  a method for making decisions with...   \n",
       "12942  what is claimed is:1.  a probabilistic learnin...   \n",
       "12943  what is claimed is:1.  a knowledge system comp...   \n",
       "12944  what is claimed as new and desired to be secur...   \n",
       "12945  what is claimed is:1.  a plant operating metho...   \n",
       "12946  what is claimed is:1.  a method for allocating...   \n",
       "12947  what is claimed is:1.  an adaptive control sys...   \n",
       "12948  i claim:1.  a method for simulating the operat...   \n",
       "12949  we claim:1.  a diagnostic system for monitorin...   \n",
       "12950  what is claimed is:1.  a pattern processing sy...   \n",
       "12951  what is claimed is:1.  a system that comprises...   \n",
       "12952  i claim:1.  a method for self-optimizing, in r...   \n",
       "12953  i claim:1.  a fertility computer comprising:(a...   \n",
       "12954  i claim:1.  a method of operating a nuclear re...   \n",
       "12955  what is claimed is:1.  a speech processing sys...   \n",
       "12956  having thus described my invention, what i cla...   \n",
       "12957  what is claimed is:1.  an information processi...   \n",
       "12958  we claim:1.  an information processing system ...   \n",
       "12959  we claim:1.  a method of nondestructive testin...   \n",
       "12960  we claim as our invention:1.  a method for mak...   \n",
       "12961  what is claimed is:1.  in a transmissive elect...   \n",
       "12962  what is claimed is:1.  a programming panel dev...   \n",
       "12963  we claim as our invention:1.  a semiconductor ...   \n",
       "12964  we claim:1.  a digital, adaptive information p...   \n",
       "12965  what is claimed is:1.  a method of providing r...   \n",
       "12966  what is claimed as new and desired to secure b...   \n",
       "12967  we claim:1.  an information processing module ...   \n",
       "12968  i claim:1.  a digital logic circuit, hereinaft...   \n",
       "\n",
       "                                                     des  \\\n",
       "0       background of the invention many mobile devic...   \n",
       "1       background users are able to locate relevant ...   \n",
       "2       field of the invention one or more implementa...   \n",
       "3       field of the invention the present invention ...   \n",
       "4       background of the invention the present inven...   \n",
       "5       background the present invention relates to t...   \n",
       "6       background of the invention the subject matte...   \n",
       "7       technical field the present invention relates...   \n",
       "8       background of the invention 1.  field of the ...   \n",
       "9       background wireless (e.g., cellular) service ...   \n",
       "10      all above-identified patents and patent appli...   \n",
       "11      background an enterprise content management s...   \n",
       "12      field of the invention the invention relates ...   \n",
       "13      cross-reference to related application this a...   \n",
       "14      background 1.  technical field present invent...   \n",
       "15      cross reference to related applications this ...   \n",
       "16      field embodiments generally relate to data an...   \n",
       "17      field of the invention this invention relates...   \n",
       "18      cross-reference to related applications this ...   \n",
       "19      technical field the present invention is dire...   \n",
       "20      field and background of the invention the pre...   \n",
       "21      background the phenomenal success of internet...   \n",
       "22      background in the electronic information age,...   \n",
       "23      background the present invention generally re...   \n",
       "24      background 1.  field of the invention this in...   \n",
       "25      field of the invention the present invention ...   \n",
       "26      background 1.  field the present invention is...   \n",
       "27      background 1.  technical field a \"wearable el...   \n",
       "28      technical field this invention generally rela...   \n",
       "29      background embodiments of the present inventi...   \n",
       "...                                                  ...   \n",
       "12939   background of the\\ninvention 1.  field of the...   \n",
       "12940   background of the invention 1.  technical fie...   \n",
       "12941   technical field the invention relates to anal...   \n",
       "12942   background of the invention 1.  field of the ...   \n",
       "12943   background of the invention 1.  field of the ...   \n",
       "12944   field of the invention this invention is dire...   \n",
       "12945   field of the invention the present invention ...   \n",
       "12946   background of the invention 1.  field of the ...   \n",
       "12947   background of\\nthe invention 1.  field of the...   \n",
       "12948   background of the invention the present inven...   \n",
       "12949   background of the invention 1.  field of the ...   \n",
       "12950   field of the invention the present invention ...   \n",
       "12951   background of the invention the present inven...   \n",
       "12952   field of the invention the present invention ...   \n",
       "12953   background of the invention 1.  field of the ...   \n",
       "12954   background of the invention 1.  field of the ...   \n",
       "12955   background of the invention 1.  field of the ...   \n",
       "12956   background of the invention 1.  field of the ...   \n",
       "12957   background of the invention 1.  field of the ...   \n",
       "12958   background and summary of the invention the p...   \n",
       "12959   background of the invention 1.  field of the ...   \n",
       "12960   background of the invention 1.  field of the ...   \n",
       "12961   technical field this invention relates genera...   \n",
       "12962   background of the invention 1.  field of the ...   \n",
       "12963   background of the invention 1.  field of the ...   \n",
       "12964   background of the invention the present inven...   \n",
       "12965   background of the invention 1.  field of the ...   \n",
       "12966   background of the invention 1.  field of the ...   \n",
       "12967   background of the invention 1.  field the inv...   \n",
       "12968   background of the invention the present inven...   \n",
       "\n",
       "                                                keywords  \n",
       "0      ['management', 'agent', 'agent may', 'related ...  \n",
       "1      ['search', 'topic', 'set search', 'query', 'pr...  \n",
       "2      ['analytic', 'data source', 'flow', 'operator'...  \n",
       "3      ['data warehouse', 'warehouse', 'dimension', '...  \n",
       "4      ['glossary', 'symbol', 'formal', 'distinction'...  \n",
       "5      ['transition rule', 'rule', 'transition', 'dfa...  \n",
       "6      ['health', 'advisor', 'assessment', 'controlle...  \n",
       "7      ['power consumption', 'consumption', 'battery'...  \n",
       "8      ['latent', 'latent variable', 'probability', '...  \n",
       "9      ['content item', 'content', 'contextual', 'rec...  \n",
       "10     ['medium item', 'click', 'item', 'particular u...  \n",
       "11     ['owner', 'ownership', 'content', 'processing ...  \n",
       "12     ['profile', 'profiling', 'behavior', 'social n...  \n",
       "13     ['attribute', 'correlation', 'plurality attrib...  \n",
       "14     ['landscape', 'processing environment', 'netwo...  \n",
       "15     ['technical', 'based model', 'confidence score...  \n",
       "16     ['object', 'nearest', 'adjacent', 'key', 'dist...  \n",
       "17     ['ontology', 'knowledge model', 'network devic...  \n",
       "18     ['unit data', 'behavior', 'unit', 'representat...  \n",
       "19     ['privacy', 'matrix', 'dataset', 'circumflex',...  \n",
       "20     ['assay', 'reaction', 'chemical', 'point', 'sp...  \n",
       "21     ['rewrite', 'query', 'readable program code', ...  \n",
       "22     ['training document', 'prospective', 'document...  \n",
       "23     ['crossing', 'genetic', 'template', 'binary tr...  \n",
       "24     ['candidate answer', 'answer', 'candidate', 'q...  \n",
       "25     ['image', 'keywords', 'descriptor', 'search', ...  \n",
       "26     ['machine learning facility', 'learning facili...  \n",
       "27     ['wearable', 'sensor node', 'sensor', 'muscle'...  \n",
       "28     ['topic', 'metadata', 'map', 'knowledge', 'sub...  \n",
       "29     ['token', 'sequence', 'point', 'linear regress...  \n",
       "...                                                  ...  \n",
       "12939  ['cylinder', 'combustion', 'pressure', 'igniti...  \n",
       "12940  ['term memory', 'said', 'cell', 'memory mean',...  \n",
       "12941  ['waveform', 'motor', 'electrical signal', 'si...  \n",
       "12942  ['video image', 'neural network circuit', 'vid...  \n",
       "12943  ['neural net', 'assembly', 'said', 'net', 'neu...  \n",
       "12944  ['controller', 'setpoint', 'oxygen', 'measurem...  \n",
       "12945   ['alarm', 'image', 'plant', 'pixel', 'security']  \n",
       "12946  ['failure', 'error', 'theory', 'module', 'anal...  \n",
       "12947  ['gear', 'shifting', 'pattern', 'said', 'trans...  \n",
       "12948  ['processing unit', 'assumption', 'unit', 'box...  \n",
       "12949  ['rho', 'portion', 'theta', 'parameter', 'pict...  \n",
       "12950  ['layer', 'address', 'neuron', 'layer network'...  \n",
       "12951  ['learning data', 'learning', 'associative', '...  \n",
       "12952  ['bit', 'exponent', 'amplifier', 'electrode', ...  \n",
       "12953  ['discharge', 'work', 'supply', 'loop', 'comma...  \n",
       "12954  ['variable', 'software', 'name', 'retrieval', ...  \n",
       "12955  ['membership function', 'membership', 'lens', ...  \n",
       "12956     ['car', 'floor', 'call', 'empty', 'predicted']  \n",
       "12957  ['signal', 'neuron', 'synapse', 'signal line',...  \n",
       "12958  ['grammar', 'lexicon', 'edge', 'noun', 'senten...  \n",
       "12959  ['focusing', 'signal', 'image signal', 'image'...  \n",
       "12960  ['channel mo', 'transistor', 'mo transistor', ...  \n",
       "12961  ['radio', 'processing unit', 'environmental', ...  \n",
       "12962  ['text', 'evidence', 'rulebase', 'recommended'...  \n",
       "12963  ['spatial light', 'modulator', 'tube', 'spatia...  \n",
       "12964  ['knowledge data', 'knowledge', 'impact', 'sto...  \n",
       "12965  ['gear', 'throttle', 'throttle opening', 'vehi...  \n",
       "12966  ['gear', 'throttle', 'throttle opening', 'vehi...  \n",
       "12967  ['defined wherein', 'transfer function', 'info...  \n",
       "12968  ['explosive', 'neutron', 'detector', 'ray', 'g...  \n",
       "\n",
       "[12969 rows x 7 columns]"
      ]
     },
     "execution_count": 105,
     "metadata": {},
     "output_type": "execute_result"
    }
   ],
   "source": [
    "t"
   ]
  },
  {
   "cell_type": "code",
   "execution_count": null,
   "metadata": {
    "collapsed": true
   },
   "outputs": [],
   "source": []
  }
 ],
 "metadata": {
  "kernelspec": {
   "display_name": "Python 3",
   "language": "python",
   "name": "python3"
  },
  "language_info": {
   "codemirror_mode": {
    "name": "ipython",
    "version": 3
   },
   "file_extension": ".py",
   "mimetype": "text/x-python",
   "name": "python",
   "nbconvert_exporter": "python",
   "pygments_lexer": "ipython3",
   "version": "3.6.1"
  }
 },
 "nbformat": 4,
 "nbformat_minor": 2
}
